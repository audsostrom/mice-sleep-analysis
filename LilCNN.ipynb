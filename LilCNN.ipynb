{
  "cells": [
    {
      "attachments": {},
      "cell_type": "markdown",
      "metadata": {
        "id": "hrVzIHilME_d"
      },
      "source": [
        "**Draft Model for Mice Steep Stage Analysis**"
      ]
    },
    {
      "cell_type": "code",
      "execution_count": 1,
      "metadata": {
        "id": "v448-jrIME_i"
      },
      "outputs": [],
      "source": [
        "import torch\n",
        "import torch.nn.functional as F\n",
        "from torch import optim, nn\n",
        "from torchvision import transforms, datasets, models\n",
        "\n",
        "\n",
        "import torch.utils.data as utils\n",
        "from inputMassager import *\n"
      ]
    },
    {
      "cell_type": "code",
      "execution_count": 2,
      "metadata": {
        "colab": {
          "base_uri": "https://localhost:8080/",
          "height": 393
        },
        "id": "2D54K3Q9ME_l",
        "outputId": "38cea99b-785e-418b-cbf1-f834d0e45127"
      },
      "outputs": [],
      "source": [
        "inputHandler = inputMassager()\n",
        "data_filepath = R\"C:\\Users\\Adam\\Desktop\\CHDCtrl1_CHD801FR_normal\\CHD801FR_20221123_normal.txt\"\n",
        "annotated_filepath = R\"C:\\Users\\Adam\\Desktop\\CHDCtrl1_CHD801FR_normal\\CHD801FR_20221123_normal_annotated.txt\"\n",
        "period_size = 200\n",
        "num_periods = None\n",
        "labels, eeg_samples, emg_samples, eeg_fft, emg_fft = get_labeled_data(data_filepath, annotated_filepath, period_size, num_periods)"
      ]
    },
    {
      "cell_type": "code",
      "execution_count": null,
      "metadata": {},
      "outputs": [
        {
          "name": "stdout",
          "output_type": "stream",
          "text": [
            "torch.Size([100889, 2, 200])\n"
          ]
        }
      ],
      "source": [
        "everything = torch.cat((eeg_samples, eeg_fft), dim = 1)\n",
        "print(everything.size())"
      ]
    },
    {
      "cell_type": "code",
      "execution_count": null,
      "metadata": {
        "id": "zyiayC-svcUb"
      },
      "outputs": [],
      "source": [
        "#ds = torch.utils.data.TensorDataset(eeg_fft, emg_fft, labels)\n",
        "ds = torch.utils.data.TensorDataset(torch.cat((eeg_samples, eeg_fft), dim = 1), torch.cat((emg_samples, emg_fft), dim = 1), labels)\n",
        "\n",
        "train_size = int(len(ds) *.80)\n",
        "val_size = len(ds) - int(len(ds) *.80)\n",
        "\n",
        "train_dataset, val_dataset = torch.utils.data.random_split(ds, [train_size, val_size])\n",
        "\n",
        "train_loader = torch.utils.data.DataLoader(train_dataset, batch_size=100, shuffle=True)\n",
        "val_loader = torch.utils.data.DataLoader(val_dataset, batch_size=100, shuffle=True)"
      ]
    },
    {
      "cell_type": "code",
      "execution_count": null,
      "metadata": {},
      "outputs": [],
      "source": [
        "device = torch.device(\"cuda:0\" if torch.cuda.is_available() else \"cpu\")"
      ]
    },
    {
      "attachments": {},
      "cell_type": "markdown",
      "metadata": {
        "id": "ARqeTEylME_o"
      },
      "source": [
        "**Creating class for Model**"
      ]
    },
    {
      "cell_type": "code",
      "execution_count": null,
      "metadata": {
        "id": "O944bgcTwew9"
      },
      "outputs": [],
      "source": [
        "class CNN(nn.Module):\n",
        "    def __init__(self, period_size, input_channels=1):\n",
        "        super(CNN, self).__init__()\n",
        "        self.input_channels = input_channels\n",
        "\n",
        "        self.eeg_conv1 = nn.Conv1d(in_channels=input_channels, out_channels=period_size, kernel_size=period_size//2)\n",
        "        self.eeg_conv2 = nn.Conv1d(in_channels=period_size, out_channels=period_size//4, kernel_size=8)\n",
        "        self.eeg_conv3 = nn.Conv1d(in_channels=period_size // 4, out_channels=256, kernel_size=2)\n",
        "\n",
        "        self.emg_conv1 = nn.Conv1d(in_channels=input_channels, out_channels=period_size, kernel_size=period_size//2)\n",
        "        self.emg_conv2 = nn.Conv1d(in_channels=period_size, out_channels=period_size//4, kernel_size=8)\n",
        "        self.emg_conv3 = nn.Conv1d(in_channels=period_size // 4, out_channels=256, kernel_size=2)\n",
        "\n",
        "\n",
        "\n",
        "        self.fc1 = nn.Linear(2560*2, 20)\n",
        "        self.fc2 = nn.Linear(10, 5)\n",
        "\n",
        "\n",
        "    def forward(self, c1, c2):\n",
        "        #print(x.size())\n",
        "        c1 = self.eeg_conv1(c1)\n",
        "        c1 = F.relu(c1)\n",
        "        # print(x.size())\n",
        "        c1 = F.max_pool1d(c1, kernel_size=2)\n",
        "        c1 = self.eeg_conv2(c1)\n",
        "        c1 = F.max_pool1d(c1, kernel_size=2)\n",
        "        # print(x.size())\n",
        "        c1 = self.eeg_conv3(c1)\n",
        "        c1 = F.max_pool1d(c1, kernel_size=2)\n",
        "        #print(x.size())\n",
        "\n",
        "        c2 = self.eeg_conv1(c2)\n",
        "        c2 = F.relu(c2)\n",
        "        # print(x.size())\n",
        "        c2 = F.max_pool1d(c2, kernel_size=2)\n",
        "        c2 = self.eeg_conv2(c2)\n",
        "        c2 = F.max_pool1d(c2, kernel_size=2)\n",
        "        # print(x.size())\n",
        "        c2 = self.eeg_conv3(c2)\n",
        "        c2 = F.max_pool1d(c2, kernel_size=2)\n",
        "\n",
        "\n",
        "        c1c2 = torch.cat((c1, c2), dim=1)\n",
        "\n",
        "        c1c2 = c1c2.flatten(1)\n",
        "        #print(x.size())\n",
        "        c1c2 = self.fc1(c1c2)\n",
        "        c1c2 = F.max_pool1d(c1c2, kernel_size=2)\n",
        "        # print(x.size())\n",
        "        c1c2 = self.fc2(c1c2)\n",
        "        c1c2 = F.log_softmax(c1c2, dim=1)\n",
        "#ME      \n",
        "        #c1c2 = F.relu(c1c2)\n",
        "        \n",
        "        return c1c2"
      ]
    },
    {
      "cell_type": "code",
      "execution_count": null,
      "metadata": {
        "id": "_ctcO4-KME_o"
      },
      "outputs": [],
      "source": [
        "def train_model(epochs, model):\n",
        "    print(\"device:\", device)\n",
        "    model.to(device)\n",
        "    model.train() # set model to training mode\n",
        "  \n",
        "    # class_weights = torch.tensor([1/50, 1/5886, 1/13258, 1/285, 0], device=device)\n",
        "    class_weights = torch.tensor([0.9, 2.6, 0.7, 0.5, 0.9], device=device)\n",
        "\n",
        "    loss_fun = nn.CrossEntropyLoss(weight=class_weights) #define a loss function object\n",
        "\n",
        "    for epoch in range(epochs):\n",
        "\n",
        "      for batch_idx, (channel1, channel2, target) in enumerate(train_loader):\n",
        "          #print(c)\n",
        "          # print(target)\n",
        "          channel1, channel2, target = channel1.to(device), channel2.to(device), target.to(device)\n",
        "          \n",
        "          optimizer.zero_grad()\n",
        "          output = model(channel1, channel2) # guess we have to pass all channels instead of data?]\\\n",
        "          model.to(device)\n",
        "          loss = loss_fun(output,target)\n",
        "          loss.backward()\n",
        "          optimizer.step()\n",
        "          if batch_idx % 100 == 0:\n",
        "              print('Train Epoch: {} [{}/{} ({:.0f}%)]\\tLoss: {:.6f}'.format(\n",
        "                  epoch, batch_idx * len(channel1), len(train_loader.dataset),\n",
        "                  100. * batch_idx / len(train_loader), loss.item()))"
      ]
    },
    {
      "cell_type": "code",
      "execution_count": null,
      "metadata": {
        "id": "zWd70Kxjwyir"
      },
      "outputs": [
        {
          "name": "stdout",
          "output_type": "stream",
          "text": [
            "device: cuda:0\n",
            "Train Epoch: 0 [0/80711 (0%)]\tLoss: 1.556967\n",
            "Train Epoch: 0 [10000/80711 (12%)]\tLoss: 0.702753\n",
            "Train Epoch: 0 [20000/80711 (25%)]\tLoss: 0.599106\n",
            "Train Epoch: 0 [30000/80711 (37%)]\tLoss: 0.577566\n",
            "Train Epoch: 0 [40000/80711 (50%)]\tLoss: 0.631590\n",
            "Train Epoch: 0 [50000/80711 (62%)]\tLoss: 0.316174\n",
            "Train Epoch: 0 [60000/80711 (74%)]\tLoss: 0.580122\n",
            "Train Epoch: 0 [70000/80711 (87%)]\tLoss: 0.568381\n",
            "Train Epoch: 0 [80000/80711 (99%)]\tLoss: 0.639824\n",
            "Train Epoch: 1 [0/80711 (0%)]\tLoss: 0.633750\n",
            "Train Epoch: 1 [10000/80711 (12%)]\tLoss: 0.529593\n",
            "Train Epoch: 1 [20000/80711 (25%)]\tLoss: 0.347723\n",
            "Train Epoch: 1 [30000/80711 (37%)]\tLoss: 0.860169\n",
            "Train Epoch: 1 [40000/80711 (50%)]\tLoss: 0.648738\n",
            "Train Epoch: 1 [50000/80711 (62%)]\tLoss: 0.583425\n",
            "Train Epoch: 1 [60000/80711 (74%)]\tLoss: 0.350299\n",
            "Train Epoch: 1 [70000/80711 (87%)]\tLoss: 0.589681\n",
            "Train Epoch: 1 [80000/80711 (99%)]\tLoss: 0.491180\n",
            "Train Epoch: 2 [0/80711 (0%)]\tLoss: 0.511840\n",
            "Train Epoch: 2 [10000/80711 (12%)]\tLoss: 0.496657\n",
            "Train Epoch: 2 [20000/80711 (25%)]\tLoss: 0.541125\n",
            "Train Epoch: 2 [30000/80711 (37%)]\tLoss: 0.575064\n",
            "Train Epoch: 2 [40000/80711 (50%)]\tLoss: 0.607286\n",
            "Train Epoch: 2 [50000/80711 (62%)]\tLoss: 0.473860\n",
            "Train Epoch: 2 [60000/80711 (74%)]\tLoss: 0.600892\n",
            "Train Epoch: 2 [70000/80711 (87%)]\tLoss: 0.597170\n",
            "Train Epoch: 2 [80000/80711 (99%)]\tLoss: 0.356183\n",
            "Train Epoch: 3 [0/80711 (0%)]\tLoss: 0.692890\n",
            "Train Epoch: 3 [10000/80711 (12%)]\tLoss: 0.253311\n",
            "Train Epoch: 3 [20000/80711 (25%)]\tLoss: 0.546689\n",
            "Train Epoch: 3 [30000/80711 (37%)]\tLoss: 0.601869\n",
            "Train Epoch: 3 [40000/80711 (50%)]\tLoss: 0.565026\n",
            "Train Epoch: 3 [50000/80711 (62%)]\tLoss: 0.530148\n",
            "Train Epoch: 3 [60000/80711 (74%)]\tLoss: 0.616052\n",
            "Train Epoch: 3 [70000/80711 (87%)]\tLoss: 0.371815\n",
            "Train Epoch: 3 [80000/80711 (99%)]\tLoss: 0.456566\n",
            "Train Epoch: 4 [0/80711 (0%)]\tLoss: 0.752540\n",
            "Train Epoch: 4 [10000/80711 (12%)]\tLoss: 0.582703\n",
            "Train Epoch: 4 [20000/80711 (25%)]\tLoss: 0.645076\n",
            "Train Epoch: 4 [30000/80711 (37%)]\tLoss: 0.462444\n",
            "Train Epoch: 4 [40000/80711 (50%)]\tLoss: 0.528548\n",
            "Train Epoch: 4 [50000/80711 (62%)]\tLoss: 0.681583\n",
            "Train Epoch: 4 [60000/80711 (74%)]\tLoss: 0.338599\n",
            "Train Epoch: 4 [70000/80711 (87%)]\tLoss: 0.547584\n",
            "Train Epoch: 4 [80000/80711 (99%)]\tLoss: 0.591951\n",
            "Train Epoch: 5 [0/80711 (0%)]\tLoss: 0.532169\n",
            "Train Epoch: 5 [10000/80711 (12%)]\tLoss: 0.447566\n",
            "Train Epoch: 5 [20000/80711 (25%)]\tLoss: 0.428658\n",
            "Train Epoch: 5 [30000/80711 (37%)]\tLoss: 0.522575\n",
            "Train Epoch: 5 [40000/80711 (50%)]\tLoss: 0.613426\n",
            "Train Epoch: 5 [50000/80711 (62%)]\tLoss: 0.378412\n",
            "Train Epoch: 5 [60000/80711 (74%)]\tLoss: 0.726695\n",
            "Train Epoch: 5 [70000/80711 (87%)]\tLoss: 0.368186\n",
            "Train Epoch: 5 [80000/80711 (99%)]\tLoss: 0.480669\n",
            "Train Epoch: 6 [0/80711 (0%)]\tLoss: 0.537458\n",
            "Train Epoch: 6 [10000/80711 (12%)]\tLoss: 0.298606\n",
            "Train Epoch: 6 [20000/80711 (25%)]\tLoss: 0.485480\n",
            "Train Epoch: 6 [30000/80711 (37%)]\tLoss: 0.533638\n",
            "Train Epoch: 6 [40000/80711 (50%)]\tLoss: 0.495643\n",
            "Train Epoch: 6 [50000/80711 (62%)]\tLoss: 0.579288\n",
            "Train Epoch: 6 [60000/80711 (74%)]\tLoss: 0.491727\n",
            "Train Epoch: 6 [70000/80711 (87%)]\tLoss: 0.507801\n",
            "Train Epoch: 6 [80000/80711 (99%)]\tLoss: 0.631164\n",
            "Train Epoch: 7 [0/80711 (0%)]\tLoss: 0.453890\n",
            "Train Epoch: 7 [10000/80711 (12%)]\tLoss: 0.586219\n",
            "Train Epoch: 7 [20000/80711 (25%)]\tLoss: 0.503357\n",
            "Train Epoch: 7 [30000/80711 (37%)]\tLoss: 0.447477\n",
            "Train Epoch: 7 [40000/80711 (50%)]\tLoss: 0.480575\n",
            "Train Epoch: 7 [50000/80711 (62%)]\tLoss: 0.643606\n",
            "Train Epoch: 7 [60000/80711 (74%)]\tLoss: 0.561689\n",
            "Train Epoch: 7 [70000/80711 (87%)]\tLoss: 0.432032\n",
            "Train Epoch: 7 [80000/80711 (99%)]\tLoss: 0.353123\n",
            "Train Epoch: 8 [0/80711 (0%)]\tLoss: 0.375040\n",
            "Train Epoch: 8 [10000/80711 (12%)]\tLoss: 0.560228\n",
            "Train Epoch: 8 [20000/80711 (25%)]\tLoss: 0.364966\n",
            "Train Epoch: 8 [30000/80711 (37%)]\tLoss: 0.538780\n",
            "Train Epoch: 8 [40000/80711 (50%)]\tLoss: 0.498295\n",
            "Train Epoch: 8 [50000/80711 (62%)]\tLoss: 0.416467\n",
            "Train Epoch: 8 [60000/80711 (74%)]\tLoss: 0.543208\n",
            "Train Epoch: 8 [70000/80711 (87%)]\tLoss: 0.526694\n",
            "Train Epoch: 8 [80000/80711 (99%)]\tLoss: 0.370831\n",
            "Train Epoch: 9 [0/80711 (0%)]\tLoss: 0.412934\n",
            "Train Epoch: 9 [10000/80711 (12%)]\tLoss: 0.303570\n",
            "Train Epoch: 9 [20000/80711 (25%)]\tLoss: 0.282169\n",
            "Train Epoch: 9 [30000/80711 (37%)]\tLoss: 0.444096\n",
            "Train Epoch: 9 [40000/80711 (50%)]\tLoss: 0.519620\n",
            "Train Epoch: 9 [50000/80711 (62%)]\tLoss: 0.563993\n",
            "Train Epoch: 9 [60000/80711 (74%)]\tLoss: 0.348623\n",
            "Train Epoch: 9 [70000/80711 (87%)]\tLoss: 0.511080\n",
            "Train Epoch: 9 [80000/80711 (99%)]\tLoss: 0.453594\n"
          ]
        }
      ],
      "source": [
        "model = CNN(period_size, 2)\n",
        "model.to(device)\n",
        "  \n",
        "optimizer = torch.optim.SGD(model.parameters(), lr=.01, momentum=0.9)\n",
        "\n",
        "train_model(10, model)"
      ]
    },
    {
      "attachments": {},
      "cell_type": "markdown",
      "metadata": {},
      "source": []
    },
    {
      "cell_type": "code",
      "execution_count": null,
      "metadata": {
        "id": "xX-YQFBoxmAa"
      },
      "outputs": [],
      "source": [
        "def evaluate_model(model, dataloader, is_test=False, confidence_level = -0.5):\n",
        "  # Set model to evaluation mode\n",
        "  model.eval()\n",
        "\n",
        "  #dictionary to store the accuracy of predictions by sleep stage\n",
        "  acurracy_stages = {0:[], 1:[], 2:[], 3:[], 4:[]}\n",
        "  stage_names = [\"not sure(0): \", \"rem accuracy(1): \", \"non-rem accuracy(2): \", \"wake accuracy(3): \", \"artifact accuracy(4): \"]\n",
        "  predictions = []\n",
        "  label_list = []\n",
        "  \n",
        "\n",
        "  with torch.no_grad():\n",
        "    correct = 0\n",
        "    loss = 0\n",
        "\n",
        "    criterion = torch.nn.CrossEntropyLoss(reduction='none')\n",
        "\n",
        "    for channel1, channel2, target in dataloader:\n",
        "        channel1, channel2, target = channel1.to(device), channel2.to(device), target.to(device)\n",
        "        outputs = model(channel1, channel2)\n",
        "\n",
        "        loss += torch.sum(criterion(outputs, target)).item()\n",
        "\n",
        "        pred_value, pred = outputs.data.max(1, keepdim=True) # get the index of the max log-probability                                                         \n",
        "          \n",
        "        for i in range(len(target)):      \n",
        "          \n",
        "          #if the predicted value is lower that the confidence level, set the predicted value to 0 and the target value to 0\n",
        "           if pred_value[i] < confidence_level:\n",
        "            pred[i] = 4\n",
        "            target[i] = 4\n",
        "\n",
        "          #append boolean indicating whether or not each prediction matched the target to the apporpriate sleep stage list\n",
        "           acurracy_stages[target[i].item()].append(pred[i].eq(target[i]).item())\n",
        "           predictions.append(pred[i].item())\n",
        "           label_list.append(target[i].item())\n",
        "           \n",
        "        correct += pred.eq(target.data.view_as(pred)).cpu().sum().item()               \n",
        "          \n",
        "\n",
        "#calculate total accuracy and loss\n",
        "    loss /= len(dataloader.dataset)\n",
        "    accuracy = 100. * correct / len(dataloader.dataset)\n",
        "    print('\\n{} set: Average loss: {:.4f}, Accuracy: {}/{} ({:.0f}%)\\n'.format(\n",
        "        \"Test\" if is_test else \"Validation\",\n",
        "        loss, correct, len(dataloader.dataset),\n",
        "        accuracy))\n",
        "\n",
        "  # Set model back to training mode\n",
        "  model.train()\n",
        "  return predictions, label_list"
      ]
    },
    {
      "cell_type": "code",
      "execution_count": null,
      "metadata": {
        "id": "WXAO7Fpkxmqa"
      },
      "outputs": [
        {
          "name": "stdout",
          "output_type": "stream",
          "text": [
            "\n",
            "Test set: Average loss: 0.4903, Accuracy: 17810/20178 (88%)\n",
            "\n",
            "Testing Report for Dual CNN with Fourier Transform for Accuracy, Precision, Recall, and F1-Score\n",
            "------------------------------------------------------------------------------------------------\n",
            "              precision    recall  f1-score   support\n",
            "\n",
            "         REM       0.08      0.06      0.07       714\n",
            "     Non-REM       0.87      0.95      0.91      5719\n",
            "        Wake       0.92      0.91      0.92     12924\n",
            "    Artifact       0.93      0.72      0.81       821\n",
            "\n",
            "    accuracy                           0.88     20178\n",
            "   macro avg       0.70      0.66      0.67     20178\n",
            "weighted avg       0.88      0.88      0.88     20178\n",
            "\n",
            "Classified Periods:\n",
            "Class 3, Wake: 12752\n",
            "Class 2, Non-REM: 6230\n",
            "Class 4, Artifact: 640\n",
            "Class 1, REM: 556\n"
          ]
        }
      ],
      "source": [
        "#if you make the confidence level too low, you'll get an error about not being able to divede by 0,\n",
        "#that just means that none of the data is being classified to not sure, keep it below -.75 to avoid this\n",
        "from sklearn.metrics import classification_report\n",
        "predictions, label_list = evaluate_model(model, val_loader, is_test=True, confidence_level=-0.75)\n",
        "\n",
        "target_names = ['REM', 'Non-REM', 'Wake', 'Artifact']\n",
        "print('Testing Report for Dual CNN with Fourier Transform for Accuracy, Precision, Recall, and F1-Score')\n",
        "print('------------------------------------------------------------------------------------------------')\n",
        "print(classification_report(label_list, predictions, labels=[1,2,3,4], target_names=target_names))\n",
        "\n",
        "\n",
        "\n",
        "# Calculate class-wise counts\n",
        "predictions_df = pd.Series(predictions, name='Predicted')\n",
        "counts = predictions_df.value_counts()\n",
        "\n",
        "print('Classified Periods:')\n",
        "for class_name, count in counts.items():\n",
        "    print(f\"Class {class_name}, {target_names[class_name-1]}: {count}\")"
      ]
    },
    {
      "cell_type": "code",
      "execution_count": null,
      "metadata": {},
      "outputs": [
        {
          "name": "stdout",
          "output_type": "stream",
          "text": [
            "20178\n"
          ]
        }
      ],
      "source": [
        "print(len(predictions))"
      ]
    },
    {
      "attachments": {},
      "cell_type": "markdown",
      "metadata": {},
      "source": [
        "with more training data, the model almost always predicts wake becuase it's so overepresented, when i was running just 10000 periods, it was in the mid to low 90s for non-rem and rem accuracy but with all the data, it's 99% accurate for wake and in the 30s for non rem"
      ]
    }
  ],
  "metadata": {
    "colab": {
      "provenance": []
    },
    "kernelspec": {
      "display_name": "Python 3",
      "language": "python",
      "name": "python3"
    },
    "language_info": {
      "codemirror_mode": {
        "name": "ipython",
        "version": 3
      },
      "file_extension": ".py",
      "mimetype": "text/x-python",
      "name": "python",
      "nbconvert_exporter": "python",
      "pygments_lexer": "ipython3",
      "version": "3.10.9"
    },
    "orig_nbformat": 4
  },
  "nbformat": 4,
  "nbformat_minor": 0
}
