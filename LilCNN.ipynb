{
  "cells": [
    {
      "attachments": {},
      "cell_type": "markdown",
      "metadata": {
        "id": "hrVzIHilME_d"
      },
      "source": [
        "**Draft Model for Mice Steep Stage Analysis**"
      ]
    },
    {
      "cell_type": "code",
      "execution_count": 1,
      "metadata": {
        "id": "v448-jrIME_i"
      },
      "outputs": [],
      "source": [
        "import torch\n",
        "import torch.nn.functional as F\n",
        "from torch import optim, nn\n",
        "from torchvision import transforms, datasets, models\n",
        "\n",
        "\n",
        "import torch.utils.data as utils\n",
        "from inputMassager import *\n"
      ]
    },
    {
      "cell_type": "code",
      "execution_count": 2,
      "metadata": {
        "colab": {
          "base_uri": "https://localhost:8080/",
          "height": 393
        },
        "id": "2D54K3Q9ME_l",
        "outputId": "38cea99b-785e-418b-cbf1-f834d0e45127"
      },
      "outputs": [
        {
          "name": "stderr",
          "output_type": "stream",
          "text": [
<<<<<<< Updated upstream
            "/Users/audreyostrom/CSE144/mice-sleep-analysis/inputMassager.py:285: UserWarning: Casting complex values to real discards the imaginary part (Triggered internally at /Users/runner/work/pytorch/pytorch/pytorch/aten/src/ATen/native/Copy.cpp:276.)\n",
=======
            "c:\\Users\\0feig\\Desktop\\Projects\\mice-sleep-analysis\\inputMassager.py:285: UserWarning: Casting complex values to real discards the imaginary part (Triggered internally at C:\\cb\\pytorch_1000000000000\\work\\aten\\src\\ATen\\native\\Copy.cpp:276.)\n",
>>>>>>> Stashed changes
            "  fft_tensor[index, 0] = torch.fft.fft(torch.tensor(row[col]))\n"
          ]
        }
      ],
      "source": [
        "inputHandler = inputMassager()\n",
<<<<<<< Updated upstream
        "data_filepath = inputHandler.askForInput(\"Blah!\")\n",
        "annotated_filepath = inputHandler.askForInput(\"Blah!\")\n",
        "period_size = 200\n",
        "num_periods = 5000\n",
=======
        "data_filepath = R\"C:\\Users\\0feig\\Desktop\\CHDCtrl1_CHD801FR_normal\\CHD801FR_20221123_normal.txt\"\n",
        "annotated_filepath = R\"C:\\Users\\0feig\\Desktop\\CHDCtrl1_CHD801FR_normal\\CHD801FR_20221123_normal_annotated.txt\"\n",
        "period_size = 200\n",
        "num_periods = None\n",
>>>>>>> Stashed changes
        "labels, eeg_samples, emg_samples, eeg_fft, emg_fft = get_labeled_data(data_filepath, annotated_filepath, period_size, num_periods)"
      ]
    },
    {
      "cell_type": "code",
      "execution_count": 3,
      "metadata": {},
      "outputs": [
        {
          "name": "stdout",
          "output_type": "stream",
          "text": [
<<<<<<< Updated upstream
            "torch.Size([60000, 2, 200])\n"
=======
            "torch.Size([100889, 2, 200])\n"
>>>>>>> Stashed changes
          ]
        }
      ],
      "source": [
        "everything = torch.cat((eeg_samples, eeg_fft), dim = 1)\n",
        "print(everything.size())"
      ]
    },
    {
      "cell_type": "code",
      "execution_count": 4,
      "metadata": {
        "id": "zyiayC-svcUb"
      },
      "outputs": [],
      "source": [
        "#ds = torch.utils.data.TensorDataset(eeg_fft, emg_fft, labels)\n",
        "ds = torch.utils.data.TensorDataset(torch.cat((eeg_samples, eeg_fft), dim = 1), torch.cat((emg_samples, emg_fft), dim = 1), labels)\n",
        "\n",
        "train_size = int(len(ds) *.80)\n",
        "val_size = len(ds) - int(len(ds) *.80)\n",
        "\n",
        "train_dataset, val_dataset = torch.utils.data.random_split(ds, [train_size, val_size])\n",
        "\n",
        "train_loader = torch.utils.data.DataLoader(train_dataset, batch_size=100, shuffle=True)\n",
        "val_loader = torch.utils.data.DataLoader(val_dataset, batch_size=100, shuffle=True)"
      ]
    },
    {
      "cell_type": "code",
      "execution_count": 5,
      "metadata": {},
      "outputs": [],
      "source": [
        "device = torch.device(\"cuda:0\" if torch.cuda.is_available() else \"cpu\")"
      ]
    },
    {
      "attachments": {},
      "cell_type": "markdown",
      "metadata": {
        "id": "ARqeTEylME_o"
      },
      "source": [
        "**Creating class for Model**"
      ]
    },
    {
      "cell_type": "code",
      "execution_count": 6,
      "metadata": {
        "id": "O944bgcTwew9"
      },
      "outputs": [],
      "source": [
        "class CNN(nn.Module):\n",
        "    def __init__(self, period_size, input_channels=1):\n",
        "        super(CNN, self).__init__()\n",
        "        self.input_channels = input_channels\n",
        "\n",
        "        self.eeg_conv1 = nn.Conv1d(in_channels=input_channels, out_channels=period_size, kernel_size=period_size//2)\n",
        "        self.eeg_conv2 = nn.Conv1d(in_channels=period_size, out_channels=period_size//4, kernel_size=8)\n",
        "        self.eeg_conv3 = nn.Conv1d(in_channels=period_size // 4, out_channels=256, kernel_size=2)\n",
        "\n",
        "        self.emg_conv1 = nn.Conv1d(in_channels=input_channels, out_channels=period_size, kernel_size=period_size//2)\n",
        "        self.emg_conv2 = nn.Conv1d(in_channels=period_size, out_channels=period_size//4, kernel_size=8)\n",
        "        self.emg_conv3 = nn.Conv1d(in_channels=period_size // 4, out_channels=256, kernel_size=2)\n",
        "\n",
        "\n",
        "\n",
        "        self.fc1 = nn.Linear(2560*2, 20)\n",
        "        self.fc2 = nn.Linear(10, 5)\n",
        "\n",
        "\n",
        "    def forward(self, c1, c2):\n",
        "        #print(x.size())\n",
        "        c1 = self.eeg_conv1(c1)\n",
        "        c1 = F.relu(c1)\n",
        "        # print(x.size())\n",
        "        c1 = F.max_pool1d(c1, kernel_size=2)\n",
        "        c1 = self.eeg_conv2(c1)\n",
        "        c1 = F.max_pool1d(c1, kernel_size=2)\n",
        "        # print(x.size())\n",
        "        c1 = self.eeg_conv3(c1)\n",
        "        c1 = F.max_pool1d(c1, kernel_size=2)\n",
        "        #print(x.size())\n",
        "\n",
        "        c2 = self.eeg_conv1(c2)\n",
        "        c2 = F.relu(c2)\n",
        "        # print(x.size())\n",
        "        c2 = F.max_pool1d(c2, kernel_size=2)\n",
        "        c2 = self.eeg_conv2(c2)\n",
        "        c2 = F.max_pool1d(c2, kernel_size=2)\n",
        "        # print(x.size())\n",
        "        c2 = self.eeg_conv3(c2)\n",
        "        c2 = F.max_pool1d(c2, kernel_size=2)\n",
        "\n",
        "\n",
        "        c1c2 = torch.cat((c1, c2), dim=1)\n",
        "\n",
        "        c1c2 = c1c2.flatten(1)\n",
        "        #print(x.size())\n",
        "        c1c2 = self.fc1(c1c2)\n",
        "        c1c2 = F.max_pool1d(c1c2, kernel_size=2)\n",
        "        # print(x.size())\n",
        "        c1c2 = self.fc2(c1c2)\n",
        "        c1c2 = F.log_softmax(c1c2, dim=1)\n",
        "#ME      \n",
        "        #c1c2 = F.relu(c1c2)\n",
        "        \n",
        "        return c1c2"
      ]
    },
    {
      "cell_type": "code",
<<<<<<< Updated upstream
      "execution_count": 7,
=======
      "execution_count": 45,
>>>>>>> Stashed changes
      "metadata": {
        "id": "_ctcO4-KME_o"
      },
      "outputs": [],
      "source": [
        "def train_model(epochs, model):\n",
        "    print(\"device:\", device)\n",
        "    model.to(device)\n",
        "    model.train() # set model to training mode\n",
        "  \n",
        "    # class_weights = torch.tensor([1/50, 1/5886, 1/13258, 1/285, 0], device=device)\n",
        "    class_weights = torch.tensor([0.5, 0.5, 0.5, 0.5, 0.5], device=device)\n",
        "\n",
        "    loss_fun = nn.CrossEntropyLoss(weight=class_weights) #define a loss function object\n",
        "\n",
        "    for epoch in range(epochs):\n",
        "\n",
        "      for batch_idx, (channel1, channel2, target) in enumerate(train_loader):\n",
        "          #print(c)\n",
        "          # print(target)\n",
        "          channel1, channel2, target = channel1.to(device), channel2.to(device), target.to(device)\n",
        "          \n",
        "          optimizer.zero_grad()\n",
        "          output = model(channel1, channel2) # guess we have to pass all channels instead of data?]\\\n",
        "          model.to(device)\n",
        "          loss = loss_fun(output,target)\n",
        "          loss.backward()\n",
        "          optimizer.step()\n",
        "          if batch_idx % 100 == 0:\n",
        "              print('Train Epoch: {} [{}/{} ({:.0f}%)]\\tLoss: {:.6f}'.format(\n",
        "                  epoch, batch_idx * len(channel1), len(train_loader.dataset),\n",
        "                  100. * batch_idx / len(train_loader), loss.item()))"
      ]
    },
    {
      "cell_type": "code",
<<<<<<< Updated upstream
      "execution_count": 8,
=======
      "execution_count": 46,
>>>>>>> Stashed changes
      "metadata": {
        "id": "zWd70Kxjwyir"
      },
      "outputs": [
        {
          "name": "stdout",
          "output_type": "stream",
          "text": [
<<<<<<< Updated upstream
            "Train Epoch: 0 [0/48000 (0%)]\tLoss: 1.624927\n",
            "Train Epoch: 0 [10000/48000 (21%)]\tLoss: 0.383925\n",
            "Train Epoch: 0 [20000/48000 (42%)]\tLoss: 0.264891\n",
            "Train Epoch: 0 [30000/48000 (62%)]\tLoss: 0.312123\n",
            "Train Epoch: 0 [40000/48000 (83%)]\tLoss: 0.346517\n",
            "Train Epoch: 1 [0/48000 (0%)]\tLoss: 0.219184\n",
            "Train Epoch: 1 [10000/48000 (21%)]\tLoss: 0.529252\n",
            "Train Epoch: 1 [20000/48000 (42%)]\tLoss: 0.268398\n",
            "Train Epoch: 1 [30000/48000 (62%)]\tLoss: 0.314128\n",
            "Train Epoch: 1 [40000/48000 (83%)]\tLoss: 0.332712\n",
            "Train Epoch: 2 [0/48000 (0%)]\tLoss: 0.164679\n",
            "Train Epoch: 2 [10000/48000 (21%)]\tLoss: 0.522119\n",
            "Train Epoch: 2 [20000/48000 (42%)]\tLoss: 0.254086\n",
            "Train Epoch: 2 [30000/48000 (62%)]\tLoss: 0.423316\n",
            "Train Epoch: 2 [40000/48000 (83%)]\tLoss: 0.414369\n",
            "Train Epoch: 3 [0/48000 (0%)]\tLoss: 0.140720\n",
            "Train Epoch: 3 [10000/48000 (21%)]\tLoss: 0.343448\n",
            "Train Epoch: 3 [20000/48000 (42%)]\tLoss: 0.330821\n",
            "Train Epoch: 3 [30000/48000 (62%)]\tLoss: 0.280829\n",
            "Train Epoch: 3 [40000/48000 (83%)]\tLoss: 0.327314\n",
            "Train Epoch: 4 [0/48000 (0%)]\tLoss: 0.274555\n",
            "Train Epoch: 4 [10000/48000 (21%)]\tLoss: 0.290561\n",
            "Train Epoch: 4 [20000/48000 (42%)]\tLoss: 0.148023\n",
            "Train Epoch: 4 [30000/48000 (62%)]\tLoss: 0.239975\n",
            "Train Epoch: 4 [40000/48000 (83%)]\tLoss: 0.533161\n",
            "Train Epoch: 5 [0/48000 (0%)]\tLoss: 0.330106\n",
            "Train Epoch: 5 [10000/48000 (21%)]\tLoss: 0.256879\n",
            "Train Epoch: 5 [20000/48000 (42%)]\tLoss: 0.414141\n",
            "Train Epoch: 5 [30000/48000 (62%)]\tLoss: 0.311308\n",
            "Train Epoch: 5 [40000/48000 (83%)]\tLoss: 0.268515\n",
            "Train Epoch: 6 [0/48000 (0%)]\tLoss: 0.216209\n",
            "Train Epoch: 6 [10000/48000 (21%)]\tLoss: 0.346914\n",
            "Train Epoch: 6 [20000/48000 (42%)]\tLoss: 0.275626\n",
            "Train Epoch: 6 [30000/48000 (62%)]\tLoss: 0.313668\n",
            "Train Epoch: 6 [40000/48000 (83%)]\tLoss: 0.521420\n",
            "Train Epoch: 7 [0/48000 (0%)]\tLoss: 0.305617\n",
            "Train Epoch: 7 [10000/48000 (21%)]\tLoss: 0.228228\n",
            "Train Epoch: 7 [20000/48000 (42%)]\tLoss: 0.234147\n",
            "Train Epoch: 7 [30000/48000 (62%)]\tLoss: 0.191637\n",
            "Train Epoch: 7 [40000/48000 (83%)]\tLoss: 0.284886\n",
            "Train Epoch: 8 [0/48000 (0%)]\tLoss: 0.370020\n",
            "Train Epoch: 8 [10000/48000 (21%)]\tLoss: 0.279268\n",
            "Train Epoch: 8 [20000/48000 (42%)]\tLoss: 0.295423\n",
            "Train Epoch: 8 [30000/48000 (62%)]\tLoss: 0.182993\n",
            "Train Epoch: 8 [40000/48000 (83%)]\tLoss: 0.165677\n",
            "Train Epoch: 9 [0/48000 (0%)]\tLoss: 0.284587\n",
            "Train Epoch: 9 [10000/48000 (21%)]\tLoss: 0.250945\n",
            "Train Epoch: 9 [20000/48000 (42%)]\tLoss: 0.306547\n",
            "Train Epoch: 9 [30000/48000 (62%)]\tLoss: 0.175729\n",
            "Train Epoch: 9 [40000/48000 (83%)]\tLoss: 0.269841\n"
=======
            "device: cuda:0\n",
            "Train Epoch: 0 [0/80711 (0%)]\tLoss: 1.530338\n",
            "Train Epoch: 0 [10000/80711 (12%)]\tLoss: 0.473479\n",
            "Train Epoch: 0 [20000/80711 (25%)]\tLoss: 0.246007\n",
            "Train Epoch: 0 [30000/80711 (37%)]\tLoss: 0.388669\n",
            "Train Epoch: 0 [40000/80711 (50%)]\tLoss: 0.438439\n",
            "Train Epoch: 0 [50000/80711 (62%)]\tLoss: 0.554642\n",
            "Train Epoch: 0 [60000/80711 (74%)]\tLoss: 0.139414\n",
            "Train Epoch: 0 [70000/80711 (87%)]\tLoss: 0.347639\n",
            "Train Epoch: 0 [80000/80711 (99%)]\tLoss: 0.422174\n",
            "Train Epoch: 1 [0/80711 (0%)]\tLoss: 0.369666\n",
            "Train Epoch: 1 [10000/80711 (12%)]\tLoss: 0.362335\n",
            "Train Epoch: 1 [20000/80711 (25%)]\tLoss: 0.271780\n",
            "Train Epoch: 1 [30000/80711 (37%)]\tLoss: 0.249760\n",
            "Train Epoch: 1 [40000/80711 (50%)]\tLoss: 0.456524\n",
            "Train Epoch: 1 [50000/80711 (62%)]\tLoss: 0.363764\n",
            "Train Epoch: 1 [60000/80711 (74%)]\tLoss: 0.408212\n",
            "Train Epoch: 1 [70000/80711 (87%)]\tLoss: 0.258173\n",
            "Train Epoch: 1 [80000/80711 (99%)]\tLoss: 0.230365\n",
            "Train Epoch: 2 [0/80711 (0%)]\tLoss: 0.314793\n",
            "Train Epoch: 2 [10000/80711 (12%)]\tLoss: 0.292763\n",
            "Train Epoch: 2 [20000/80711 (25%)]\tLoss: 0.343995\n",
            "Train Epoch: 2 [30000/80711 (37%)]\tLoss: 0.378046\n",
            "Train Epoch: 2 [40000/80711 (50%)]\tLoss: 0.263516\n",
            "Train Epoch: 2 [50000/80711 (62%)]\tLoss: 0.346238\n",
            "Train Epoch: 2 [60000/80711 (74%)]\tLoss: 0.325064\n",
            "Train Epoch: 2 [70000/80711 (87%)]\tLoss: 0.457235\n",
            "Train Epoch: 2 [80000/80711 (99%)]\tLoss: 0.338019\n",
            "Train Epoch: 3 [0/80711 (0%)]\tLoss: 0.286459\n",
            "Train Epoch: 3 [10000/80711 (12%)]\tLoss: 0.290541\n",
            "Train Epoch: 3 [20000/80711 (25%)]\tLoss: 0.289875\n",
            "Train Epoch: 3 [30000/80711 (37%)]\tLoss: 0.270591\n",
            "Train Epoch: 3 [40000/80711 (50%)]\tLoss: 0.528710\n",
            "Train Epoch: 3 [50000/80711 (62%)]\tLoss: 0.261816\n",
            "Train Epoch: 3 [60000/80711 (74%)]\tLoss: 0.399172\n",
            "Train Epoch: 3 [70000/80711 (87%)]\tLoss: 0.235727\n",
            "Train Epoch: 3 [80000/80711 (99%)]\tLoss: 0.327856\n",
            "Train Epoch: 4 [0/80711 (0%)]\tLoss: 0.224329\n",
            "Train Epoch: 4 [10000/80711 (12%)]\tLoss: 0.471680\n",
            "Train Epoch: 4 [20000/80711 (25%)]\tLoss: 0.241372\n",
            "Train Epoch: 4 [30000/80711 (37%)]\tLoss: 0.184916\n",
            "Train Epoch: 4 [40000/80711 (50%)]\tLoss: 0.340531\n",
            "Train Epoch: 4 [50000/80711 (62%)]\tLoss: 0.184238\n",
            "Train Epoch: 4 [60000/80711 (74%)]\tLoss: 0.317271\n",
            "Train Epoch: 4 [70000/80711 (87%)]\tLoss: 0.377319\n",
            "Train Epoch: 4 [80000/80711 (99%)]\tLoss: 0.311948\n",
            "Train Epoch: 5 [0/80711 (0%)]\tLoss: 0.446145\n",
            "Train Epoch: 5 [10000/80711 (12%)]\tLoss: 0.261971\n",
            "Train Epoch: 5 [20000/80711 (25%)]\tLoss: 0.343098\n",
            "Train Epoch: 5 [30000/80711 (37%)]\tLoss: 0.404540\n",
            "Train Epoch: 5 [40000/80711 (50%)]\tLoss: 0.311939\n",
            "Train Epoch: 5 [50000/80711 (62%)]\tLoss: 0.480002\n",
            "Train Epoch: 5 [60000/80711 (74%)]\tLoss: 0.238998\n",
            "Train Epoch: 5 [70000/80711 (87%)]\tLoss: 0.236868\n",
            "Train Epoch: 5 [80000/80711 (99%)]\tLoss: 0.401399\n",
            "Train Epoch: 6 [0/80711 (0%)]\tLoss: 0.210533\n",
            "Train Epoch: 6 [10000/80711 (12%)]\tLoss: 0.232541\n",
            "Train Epoch: 6 [20000/80711 (25%)]\tLoss: 0.420821\n",
            "Train Epoch: 6 [30000/80711 (37%)]\tLoss: 0.197377\n",
            "Train Epoch: 6 [40000/80711 (50%)]\tLoss: 0.201023\n",
            "Train Epoch: 6 [50000/80711 (62%)]\tLoss: 0.299569\n",
            "Train Epoch: 6 [60000/80711 (74%)]\tLoss: 0.235622\n",
            "Train Epoch: 6 [70000/80711 (87%)]\tLoss: 0.278144\n",
            "Train Epoch: 6 [80000/80711 (99%)]\tLoss: 0.191848\n",
            "Train Epoch: 7 [0/80711 (0%)]\tLoss: 0.228973\n",
            "Train Epoch: 7 [10000/80711 (12%)]\tLoss: 0.293201\n",
            "Train Epoch: 7 [20000/80711 (25%)]\tLoss: 0.329753\n",
            "Train Epoch: 7 [30000/80711 (37%)]\tLoss: 0.399992\n",
            "Train Epoch: 7 [40000/80711 (50%)]\tLoss: 0.259081\n",
            "Train Epoch: 7 [50000/80711 (62%)]\tLoss: 0.246928\n",
            "Train Epoch: 7 [60000/80711 (74%)]\tLoss: 0.333617\n",
            "Train Epoch: 7 [70000/80711 (87%)]\tLoss: 0.246185\n",
            "Train Epoch: 7 [80000/80711 (99%)]\tLoss: 0.336383\n",
            "Train Epoch: 8 [0/80711 (0%)]\tLoss: 0.102844\n",
            "Train Epoch: 8 [10000/80711 (12%)]\tLoss: 0.277046\n",
            "Train Epoch: 8 [20000/80711 (25%)]\tLoss: 0.139602\n",
            "Train Epoch: 8 [30000/80711 (37%)]\tLoss: 0.239860\n",
            "Train Epoch: 8 [40000/80711 (50%)]\tLoss: 0.432084\n",
            "Train Epoch: 8 [50000/80711 (62%)]\tLoss: 0.409659\n",
            "Train Epoch: 8 [60000/80711 (74%)]\tLoss: 0.317942\n",
            "Train Epoch: 8 [70000/80711 (87%)]\tLoss: 0.297011\n",
            "Train Epoch: 8 [80000/80711 (99%)]\tLoss: 0.220721\n",
            "Train Epoch: 9 [0/80711 (0%)]\tLoss: 0.166142\n",
            "Train Epoch: 9 [10000/80711 (12%)]\tLoss: 0.336476\n",
            "Train Epoch: 9 [20000/80711 (25%)]\tLoss: 0.274988\n",
            "Train Epoch: 9 [30000/80711 (37%)]\tLoss: 0.199128\n",
            "Train Epoch: 9 [40000/80711 (50%)]\tLoss: 0.235694\n",
            "Train Epoch: 9 [50000/80711 (62%)]\tLoss: 0.317942\n",
            "Train Epoch: 9 [60000/80711 (74%)]\tLoss: 0.312701\n",
            "Train Epoch: 9 [70000/80711 (87%)]\tLoss: 0.261896\n",
            "Train Epoch: 9 [80000/80711 (99%)]\tLoss: 0.344108\n"
>>>>>>> Stashed changes
          ]
        }
      ],
      "source": [
        "model = CNN(period_size, 2)\n",
        "model.to(device)\n",
        "  \n",
        "optimizer = torch.optim.SGD(model.parameters(), lr=.01, momentum=0.9)\n",
        "\n",
        "train_model(10, model)"
      ]
    },
    {
      "attachments": {},
      "cell_type": "markdown",
      "metadata": {},
      "source": []
    },
    {
      "cell_type": "code",
<<<<<<< Updated upstream
      "execution_count": 21,
=======
      "execution_count": 47,
>>>>>>> Stashed changes
      "metadata": {
        "id": "xX-YQFBoxmAa"
      },
      "outputs": [],
      "source": [
        "def evaluate_model(model, dataloader, is_test=False, confidence_level = -0.5):\n",
        "  # Set model to evaluation mode\n",
        "  model.eval()\n",
        "\n",
        "  #dictionary to store the accuracy of predictions by sleep stage\n",
        "  acurracy_stages = {0:[], 1:[], 2:[], 3:[], 4:[]}\n",
        "  stage_names = [\"not sure(0): \", \"rem accuracy(1): \", \"non-rem accuracy(2): \", \"wake accuracy(3): \", \"artifact accuracy(4): \"]\n",
        "  predictions = []\n",
        "  label_list = []\n",
        "  \n",
        "\n",
        "  with torch.no_grad():\n",
        "    correct = 0\n",
        "    loss = 0\n",
        "\n",
        "    criterion = torch.nn.CrossEntropyLoss(reduction='none')\n",
        "\n",
        "    for channel1, channel2, target in dataloader:\n",
        "        channel1, channel2, target = channel1.to(device), channel2.to(device), target.to(device)\n",
        "        outputs = model(channel1, channel2)\n",
        "\n",
        "        loss += torch.sum(criterion(outputs, target)).item()\n",
        "\n",
        "        pred_value, pred = outputs.data.max(1, keepdim=True) # get the index of the max log-probability                                                         \n",
        "          \n",
        "        for i in range(len(target)):      \n",
        "          \n",
        "          #if the predicted value is lower that the confidence level, set the predicted value to 0 and the target value to 0\n",
        "           if pred_value[i] < confidence_level:\n",
        "            pred[i] = 4\n",
        "            target[i] = 4\n",
        "\n",
        "          #append boolean indicating whether or not each prediction matched the target to the apporpriate sleep stage list\n",
        "           acurracy_stages[target[i].item()].append(pred[i].eq(target[i]).item())\n",
        "           predictions.append(pred[i].item())\n",
        "           label_list.append(target[i].item())\n",
        "           \n",
        "        correct += pred.eq(target.data.view_as(pred)).cpu().sum().item()               \n",
        "          \n",
        "\n",
        "#calculate total accuracy and loss\n",
        "    loss /= len(dataloader.dataset)\n",
        "    accuracy = 100. * correct / len(dataloader.dataset)\n",
        "    print('\\n{} set: Average loss: {:.4f}, Accuracy: {}/{} ({:.0f}%)\\n'.format(\n",
        "        \"Test\" if is_test else \"Validation\",\n",
        "        loss, correct, len(dataloader.dataset),\n",
        "        accuracy))\n",
        "\n",
        "  # Set model back to training mode\n",
        "  model.train()\n",
        "  return predictions, label_list"
      ]
    },
    {
      "cell_type": "code",
<<<<<<< Updated upstream
      "execution_count": 25,
=======
      "execution_count": 48,
>>>>>>> Stashed changes
      "metadata": {
        "id": "WXAO7Fpkxmqa"
      },
      "outputs": [
        {
          "name": "stdout",
          "output_type": "stream",
          "text": [
            "\n",
<<<<<<< Updated upstream
            "Test set: Average loss: 0.3385, Accuracy: 10904/12000 (91%)\n",
=======
            "Test set: Average loss: 0.3702, Accuracy: 18251/20178 (90%)\n",
>>>>>>> Stashed changes
            "\n",
            "Testing Report for Dual CNN with Fourier Transform for Accuracy, Precision, Recall, and F1-Score\n",
            "------------------------------------------------------------------------------------------------\n",
            "              precision    recall  f1-score   support\n",
            "\n",
<<<<<<< Updated upstream
            "         REM       0.00      0.00      0.00       467\n",
            "     Non-REM       0.94      0.91      0.92      3654\n",
            "        Wake       0.90      0.98      0.94      7705\n",
            "    Artifact       0.94      0.20      0.32       174\n",
            "\n",
            "    accuracy                           0.91     12000\n",
            "   macro avg       0.69      0.52      0.55     12000\n",
            "weighted avg       0.87      0.91      0.89     12000\n",
            "\n"
=======
            "         REM       1.00      0.00      0.01       752\n",
            "     Non-REM       0.94      0.88      0.91      5859\n",
            "        Wake       0.89      0.98      0.94     13245\n",
            "    Artifact       0.74      0.30      0.42       322\n",
            "\n",
            "    accuracy                           0.90     20178\n",
            "   macro avg       0.89      0.54      0.57     20178\n",
            "weighted avg       0.91      0.90      0.88     20178\n",
            "\n",
            "Class Counts:\n",
            "3: 14581\n",
            "2: 5467\n",
            "4: 128\n",
            "1: 2\n"
>>>>>>> Stashed changes
          ]
        },
        {
          "name": "stderr",
          "output_type": "stream",
          "text": [
            "/Users/audreyostrom/Library/Python/3.8/lib/python/site-packages/sklearn/metrics/_classification.py:1344: UndefinedMetricWarning: Precision and F-score are ill-defined and being set to 0.0 in labels with no predicted samples. Use `zero_division` parameter to control this behavior.\n",
            "  _warn_prf(average, modifier, msg_start, len(result))\n",
            "/Users/audreyostrom/Library/Python/3.8/lib/python/site-packages/sklearn/metrics/_classification.py:1344: UndefinedMetricWarning: Precision and F-score are ill-defined and being set to 0.0 in labels with no predicted samples. Use `zero_division` parameter to control this behavior.\n",
            "  _warn_prf(average, modifier, msg_start, len(result))\n",
            "/Users/audreyostrom/Library/Python/3.8/lib/python/site-packages/sklearn/metrics/_classification.py:1344: UndefinedMetricWarning: Precision and F-score are ill-defined and being set to 0.0 in labels with no predicted samples. Use `zero_division` parameter to control this behavior.\n",
            "  _warn_prf(average, modifier, msg_start, len(result))\n"
          ]
        }
      ],
      "source": [
        "#if you make the confidence level too low, you'll get an error about not being able to divede by 0,\n",
        "#that just means that none of the data is being classified to not sure, keep it below -.75 to avoid this\n",
        "from sklearn.metrics import classification_report\n",
        "predictions, label_list = evaluate_model(model, val_loader, is_test=True, confidence_level=-0.75)\n",
        "\n",
        "target_names = ['REM', 'Non-REM', 'Wake', 'Artifact']\n",
        "print('Testing Report for Dual CNN with Fourier Transform for Accuracy, Precision, Recall, and F1-Score')\n",
        "print('------------------------------------------------------------------------------------------------')\n",
<<<<<<< Updated upstream
        "print(classification_report(label_list, predictions, labels=[1,2,3,4], target_names=target_names))"
=======
        "print(classification_report(label_list, predictions, labels=[1,2,3,4], target_names=target_names))\n",
        "\n",
        "\n",
        "\n",
        "# Calculate class-wise counts\n",
        "predictions_df = pd.Series(predictions, name='Predicted')\n",
        "counts = predictions_df.value_counts()\n",
        "\n",
        "print('Class Counts:')\n",
        "for class_name, count in counts.items():\n",
        "    print(f\"{class_name}: {count}\")"
>>>>>>> Stashed changes
      ]
    },
    {
      "cell_type": "code",
<<<<<<< Updated upstream
      "execution_count": 11,
=======
      "execution_count": null,
>>>>>>> Stashed changes
      "metadata": {},
      "outputs": [
        {
          "name": "stdout",
          "output_type": "stream",
          "text": [
<<<<<<< Updated upstream
            "12000\n"
=======
            "20178\n"
>>>>>>> Stashed changes
          ]
        }
      ],
      "source": [
        "print(len(predictions))"
      ]
    },
    {
      "attachments": {},
      "cell_type": "markdown",
      "metadata": {},
      "source": [
        "with more training data, the model almost always predicts wake becuase it's so overepresented, when i was running just 10000 periods, it was in the mid to low 90s for non-rem and rem accuracy but with all the data, it's 99% accurate for wake and in the 30s for non rem"
      ]
    }
  ],
  "metadata": {
    "colab": {
      "provenance": []
    },
    "kernelspec": {
      "display_name": "Python 3",
      "language": "python",
      "name": "python3"
    },
    "language_info": {
      "codemirror_mode": {
        "name": "ipython",
        "version": 3
      },
      "file_extension": ".py",
      "mimetype": "text/x-python",
      "name": "python",
      "nbconvert_exporter": "python",
      "pygments_lexer": "ipython3",
      "version": "3.10.9"
    },
    "orig_nbformat": 4
  },
  "nbformat": 4,
  "nbformat_minor": 0
}
