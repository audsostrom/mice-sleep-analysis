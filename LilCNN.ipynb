{
  "cells": [
    {
      "attachments": {},
      "cell_type": "markdown",
      "metadata": {
        "id": "hrVzIHilME_d"
      },
      "source": [
        "**Draft Model for Mice Steep Stage Analysis**"
      ]
    },
    {
      "cell_type": "code",
      "execution_count": 1,
      "metadata": {
        "id": "v448-jrIME_i"
      },
      "outputs": [],
      "source": [
        "import torch\n",
        "import torch.nn.functional as F\n",
        "from torch import optim, nn\n",
        "from torchvision import transforms, datasets, models\n",
        "\n",
        "\n",
        "import torch.utils.data as utils\n",
        "from inputMassager import *\n"
      ]
    },
    {
      "cell_type": "code",
      "execution_count": 2,
      "metadata": {
        "colab": {
          "base_uri": "https://localhost:8080/",
          "height": 393
        },
        "id": "2D54K3Q9ME_l",
        "outputId": "38cea99b-785e-418b-cbf1-f834d0e45127"
      },
      "outputs": [],
      "source": [
        "\n",
        "data_filepath = R\"C:\\Users\\regan\\Downloads\\CHDCtrl1_CHD801FR_normal\\CHD801FR_20221123_normal.txt\"\n",
        "annotated_filepath = R\"C:\\Users\\regan\\Downloads\\CHDCtrl1_CHD801FR_normal\\CHD801FR_20221123_normal_annotated.txt\"\n",
        "period_size = 200\n",
        "\n",
        "labels, eeg_samples, emg_samples, fft_eeg, fft_emg = get_labeled_data(data_filepath, annotated_filepath, period_size)"
      ]
    },
    {
      "cell_type": "code",
      "execution_count": 3,
      "metadata": {
        "id": "zyiayC-svcUb"
      },
      "outputs": [],
      "source": [
        "ds = torch.utils.data.TensorDataset(eeg_samples, emg_samples, labels)\n",
        "\n",
        "train_size = int(len(ds) *.80)\n",
        "val_size = len(ds) - int(len(ds) *.80)\n",
        "\n",
        "train_dataset, val_dataset = torch.utils.data.random_split(ds, [train_size, val_size])\n",
        "\n",
        "train_loader = torch.utils.data.DataLoader(train_dataset, batch_size=100, shuffle=True)\n",
        "val_loader = torch.utils.data.DataLoader(val_dataset, batch_size=100, shuffle=True)"
      ]
    },
    {
      "cell_type": "code",
      "execution_count": 4,
      "metadata": {},
      "outputs": [],
      "source": [
        "device = torch.device(\"cuda:0\" if torch.cuda.is_available() else \"cpu\")"
      ]
    },
    {
      "attachments": {},
      "cell_type": "markdown",
      "metadata": {
        "id": "ARqeTEylME_o"
      },
      "source": [
        "**Creating class for Model**"
      ]
    },
    {
      "cell_type": "code",
      "execution_count": 5,
      "metadata": {
        "id": "O944bgcTwew9"
      },
      "outputs": [],
      "source": [
        "class Model_3(nn.Module):\n",
        "    def __init__(self, period_size, input_channels=1):\n",
        "        super(Model_3, self).__init__()\n",
        "        self.input_channels = input_channels\n",
        "\n",
        "        self.eeg_conv1 = nn.Conv1d(in_channels=1, out_channels=period_size, kernel_size=period_size//2)\n",
        "        self.eeg_conv2 = nn.Conv1d(in_channels=period_size, out_channels=period_size//4, kernel_size=8)\n",
        "        self.eeg_conv3 = nn.Conv1d(in_channels=period_size // 4, out_channels=256, kernel_size=2)\n",
        "\n",
        "        self.emg_conv1 = nn.Conv1d(in_channels=1, out_channels=period_size, kernel_size=period_size//2)\n",
        "        self.emg_conv2 = nn.Conv1d(in_channels=period_size, out_channels=period_size//4, kernel_size=8)\n",
        "        self.emg_conv3 = nn.Conv1d(in_channels=period_size // 4, out_channels=256, kernel_size=2)\n",
        "\n",
        "\n",
        "\n",
        "        # out_channels and kernal size are random\n",
        "        self.fc1 = nn.Linear(2560*2, 20) # 10 is random\n",
        "        self.fc2 = nn.Linear(10, 5)\n",
        "\n",
        "\n",
        "    def forward(self, c1, c2):\n",
        "        #print(x.size())\n",
        "        c1 = self.eeg_conv1(c1)\n",
        "        c1 = F.relu(c1)\n",
        "        # print(x.size())\n",
        "        c1 = F.max_pool1d(c1, kernel_size=2)\n",
        "        c1 = self.eeg_conv2(c1)\n",
        "        c1 = F.max_pool1d(c1, kernel_size=2)\n",
        "        # print(x.size())\n",
        "        c1 = self.eeg_conv3(c1)\n",
        "        c1 = F.max_pool1d(c1, kernel_size=2)\n",
        "        #print(x.size())\n",
        "\n",
        "        c2 = self.eeg_conv1(c2)\n",
        "        c2 = F.relu(c2)\n",
        "        # print(x.size())\n",
        "        c2 = F.max_pool1d(c2, kernel_size=2)\n",
        "        c2 = self.eeg_conv2(c2)\n",
        "        c2 = F.max_pool1d(c2, kernel_size=2)\n",
        "        # print(x.size())\n",
        "        c2 = self.eeg_conv3(c2)\n",
        "        c2 = F.max_pool1d(c2, kernel_size=2)\n",
        "\n",
        "\n",
        "        c1c2 = torch.cat((c1, c2), dim=1)\n",
        "\n",
        "        c1c2 = c1c2.flatten(1)\n",
        "        #print(x.size())\n",
        "        c1c2 = self.fc1(c1c2)\n",
        "        c1c2 = F.max_pool1d(c1c2, kernel_size=2)\n",
        "        # print(x.size())\n",
        "        c1c2 = self.fc2(c1c2)\n",
        "        c1c2 = F.log_softmax(c1c2, dim=1)\n",
        "#ME      \n",
        "        #c1c2 = F.relu(c1c2)\n",
        "        \n",
        "        return c1c2"
      ]
    },
    {
      "cell_type": "code",
      "execution_count": 6,
      "metadata": {
        "id": "_ctcO4-KME_o"
      },
      "outputs": [],
      "source": [
        "def train_model(epochs, model):\n",
        "    model.train() # set model to training mode\n",
        "    loss_fun = nn.CrossEntropyLoss() #define a loss function object\n",
        "\n",
        "    for epoch in range(epochs):\n",
        "\n",
        "      for batch_idx, (channel1, channel2, target) in enumerate(train_loader):\n",
        "          #print(c)\n",
        "          # print(target)\n",
        "          channel1, channel2, target = channel1.to(device), channel2.to(device), target.to(device)\n",
        "          \n",
        "          optimizer.zero_grad()\n",
        "          output = model(channel1, channel2) # guess we have to pass all channels instead of data?\n",
        "          loss = loss_fun(output,target)\n",
        "          loss.backward()\n",
        "          optimizer.step()\n",
        "          if batch_idx % 100 == 0:\n",
        "              print('Train Epoch: {} [{}/{} ({:.0f}%)]\\tLoss: {:.6f}'.format(\n",
        "                  epoch, batch_idx * len(channel1), len(train_loader.dataset),\n",
        "                  100. * batch_idx / len(train_loader), loss.item()))"
      ]
    },
    {
      "cell_type": "code",
      "execution_count": 7,
      "metadata": {
        "id": "zWd70Kxjwyir"
      },
      "outputs": [
        {
          "name": "stdout",
          "output_type": "stream",
          "text": [
            "Train Epoch: 0 [0/80711 (0%)]\tLoss: 1.561570\n",
            "Train Epoch: 0 [10000/80711 (12%)]\tLoss: 0.421642\n",
            "Train Epoch: 0 [20000/80711 (25%)]\tLoss: 0.357577\n",
            "Train Epoch: 0 [30000/80711 (37%)]\tLoss: 0.501190\n",
            "Train Epoch: 0 [40000/80711 (50%)]\tLoss: 0.463170\n",
            "Train Epoch: 0 [50000/80711 (62%)]\tLoss: 0.357382\n",
            "Train Epoch: 0 [60000/80711 (74%)]\tLoss: 0.644982\n",
            "Train Epoch: 0 [70000/80711 (87%)]\tLoss: 0.411984\n",
            "Train Epoch: 0 [80000/80711 (99%)]\tLoss: 0.298962\n",
            "Train Epoch: 1 [0/80711 (0%)]\tLoss: 0.517049\n",
            "Train Epoch: 1 [10000/80711 (12%)]\tLoss: 0.504108\n",
            "Train Epoch: 1 [20000/80711 (25%)]\tLoss: 0.320191\n",
            "Train Epoch: 1 [30000/80711 (37%)]\tLoss: 0.412834\n",
            "Train Epoch: 1 [40000/80711 (50%)]\tLoss: 0.426761\n",
            "Train Epoch: 1 [50000/80711 (62%)]\tLoss: 0.338812\n",
            "Train Epoch: 1 [60000/80711 (74%)]\tLoss: 0.397986\n",
            "Train Epoch: 1 [70000/80711 (87%)]\tLoss: 0.485170\n",
            "Train Epoch: 1 [80000/80711 (99%)]\tLoss: 0.288392\n",
            "Train Epoch: 2 [0/80711 (0%)]\tLoss: 0.302624\n",
            "Train Epoch: 2 [10000/80711 (12%)]\tLoss: 0.342800\n",
            "Train Epoch: 2 [20000/80711 (25%)]\tLoss: 0.387990\n",
            "Train Epoch: 2 [30000/80711 (37%)]\tLoss: 0.273096\n",
            "Train Epoch: 2 [40000/80711 (50%)]\tLoss: 0.385365\n",
            "Train Epoch: 2 [50000/80711 (62%)]\tLoss: 0.376525\n",
            "Train Epoch: 2 [60000/80711 (74%)]\tLoss: 0.323614\n",
            "Train Epoch: 2 [70000/80711 (87%)]\tLoss: 0.455885\n",
            "Train Epoch: 2 [80000/80711 (99%)]\tLoss: 0.458945\n"
          ]
        }
      ],
      "source": [
        "model_step_3 = Model_3(period_size)\n",
        "model_step_3.to(device)\n",
        "  \n",
        "optimizer = torch.optim.SGD(model_step_3.parameters(), lr=.01, momentum=0.9)\n",
        "\n",
        "train_model(3, model_step_3)"
      ]
    },
    {
      "cell_type": "code",
      "execution_count": 20,
      "metadata": {
        "id": "xX-YQFBoxmAa"
      },
      "outputs": [],
      "source": [
        "def evaluate_model(model, dataloader, is_test=False, confidence_level = -0.5):\n",
        "  # Set model to evaluation mode\n",
        "  model.eval()\n",
        "\n",
        "  #dictionary to store the accuracy of predictions by sleep stage\n",
        "  acurracy_stages = {0:[], 1:[], 2:[], 3:[], 4:[]}\n",
        "  stage_names = [\"not sure(0): \", \"rem accuracy(1): \", \"non-rem accuracy(2): \", \"wake accuracy(3): \", \"artifact accuracy(4): \"]\n",
        "\n",
        "  with torch.no_grad():\n",
        "    correct = 0\n",
        "    loss = 0\n",
        "\n",
        "    criterion = torch.nn.CrossEntropyLoss(reduction='none')\n",
        "\n",
        "    for channel1, channel2, target in dataloader:\n",
        "        channel1, channel2, target = channel1.to(device), channel2.to(device), target.to(device)\n",
        "        outputs = model(channel1, channel2)\n",
        "\n",
        "        loss += torch.sum(criterion(outputs, target)).item()\n",
        "\n",
        "        pred_value, pred = outputs.data.max(1, keepdim=True) # get the index of the max log-probability                                                         \n",
        "          \n",
        "        for i in range(len(target)):      \n",
        "          \n",
        "          #if the predicted value is lower that the confidence level, set the predicted value to 0 and the target value to 0\n",
        "           if pred_value[i] < confidence_level:\n",
        "            pred[i] = 0\n",
        "            target[i] = 0\n",
        "\n",
        "          #append boolean indicating whether or not each prediction matched the target to the apporpriate sleep stage list\n",
        "           acurracy_stages[target[i].item()].append(pred[i].eq(target[i]).item())\n",
        "      \n",
        "        correct += pred.eq(target.data.view_as(pred)).cpu().sum().item()               \n",
        "                \n",
        "#calculate accuracy for each stage\n",
        "    i = 0\n",
        "    for key in acurracy_stages.keys():\n",
        "\n",
        "       #acurracy_stages[key] = [acurracy_stages[key].count(True), (acurracy_stages[key].count(True) + acurracy_stages[key].count(False))]\n",
        "       stage_correct = str(acurracy_stages[key].count(True))\n",
        "       stage_total = str(acurracy_stages[key].count(True) + acurracy_stages[key].count(False))\n",
        "       stage_accuracy = str(int(100. * (int(stage_correct) / int(stage_total))))\n",
        "\n",
        "       print(stage_names[i] + stage_correct + \"/\" + stage_total + \" (\" + stage_accuracy + \"%)\")\n",
        "       i += 1\n",
        "\n",
        "\n",
        "\n",
        "#calculate total accuracy and loss\n",
        "    loss /= len(dataloader.dataset)\n",
        "    accuracy = 100. * correct / len(dataloader.dataset)\n",
        "    print('\\n{} set: Average loss: {:.4f}, Accuracy: {}/{} ({:.0f}%)\\n'.format(\n",
        "        \"Test\" if is_test else \"Validation\",\n",
        "        loss, correct, len(dataloader.dataset),\n",
        "        accuracy))\n",
        "\n",
        "  # Set model back to training mode\n",
        "  model.train()"
      ]
    },
    {
      "cell_type": "code",
      "execution_count": 21,
      "metadata": {
        "id": "WXAO7Fpkxmqa"
      },
      "outputs": [
        {
          "name": "stdout",
          "output_type": "stream",
          "text": [
            "not sure(0): 8/8 (100%)\n",
            "rem accuracy(1): 0/3032 (0%)\n",
            "non-rem accuracy(2): 9477/23326 (40%)\n",
            "wake accuracy(3): 53245/53342 (99%)\n",
            "artifact accuracy(4): 0/1003 (0%)\n",
            "\n",
            "Test set: Average loss: 0.5750, Accuracy: 62730/80711 (78%)\n",
            "\n"
          ]
        }
      ],
      "source": [
        "#if you make the confidence level too low, you'll get an error about not being able to divede by 0,\n",
        "#that just means that none of the data is being classified to not sure, keep it below -.75 to avoid this\n",
        "\n",
        "evaluate_model(model_step_3, train_loader, is_test=True, confidence_level= -.75)"
      ]
    },
    {
      "attachments": {},
      "cell_type": "markdown",
      "metadata": {},
      "source": [
        "with more training data, the model almost always predicts wake becuase it's so overepresented, when i was running just 10000 periods, it was in the mid to low 90s for non-rem and rem accuracy but with all the data, it's 99% accurate for wake and in the 30s for non rem"
      ]
    }
  ],
  "metadata": {
    "colab": {
      "provenance": []
    },
    "kernelspec": {
      "display_name": "Python 3",
      "language": "python",
      "name": "python3"
    },
    "language_info": {
      "codemirror_mode": {
        "name": "ipython",
        "version": 3
      },
      "file_extension": ".py",
      "mimetype": "text/x-python",
      "name": "python",
      "nbconvert_exporter": "python",
      "pygments_lexer": "ipython3",
      "version": "3.10.11"
    },
    "orig_nbformat": 4
  },
  "nbformat": 4,
  "nbformat_minor": 0
}
