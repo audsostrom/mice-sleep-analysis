{
  "cells": [
    {
      "attachments": {},
      "cell_type": "markdown",
      "metadata": {
        "id": "hrVzIHilME_d"
      },
      "source": [
        "**Draft Model for Mice Steep Stage Analysis**"
      ]
    },
    {
      "cell_type": "code",
      "execution_count": 1,
      "metadata": {
        "id": "v448-jrIME_i"
      },
      "outputs": [],
      "source": [
        "import torch\n",
        "import torch.nn.functional as F\n",
        "from torch import optim, nn\n",
        "from torchvision import transforms, datasets, models\n",
        "\n",
        "\n",
        "import torch.utils.data as utils\n",
        "from inputMassager import *\n"
      ]
    },
    {
      "cell_type": "code",
      "execution_count": 2,
      "metadata": {
        "colab": {
          "base_uri": "https://localhost:8080/",
          "height": 393
        },
        "id": "2D54K3Q9ME_l",
        "outputId": "38cea99b-785e-418b-cbf1-f834d0e45127"
      },
      "outputs": [
        {
          "name": "stderr",
          "output_type": "stream",
          "text": [
            "/Users/audreyostrom/CSE144/mice-sleep-analysis/inputMassager.py:285: UserWarning: Casting complex values to real discards the imaginary part (Triggered internally at /Users/runner/work/pytorch/pytorch/pytorch/aten/src/ATen/native/Copy.cpp:276.)\n",
            "  fft_tensor[index, 0] = torch.fft.fft(torch.tensor(row[col]))\n"
          ]
        }
      ],
      "source": [
        "inputHandler = inputMassager()\n",
        "\n",
        "data_filepath = inputHandler.askForInput(\"Blah!\")\n",
        "annotated_filepath = inputHandler.askForInput(\"Blah!\")\n",
        "period_size = 200\n",
        "\n",
        "labels, eeg_samples, emg_samples, eeg_fft, emg_fft = get_labeled_data(data_filepath, annotated_filepath, period_size)"
      ]
    },
    {
      "cell_type": "code",
      "execution_count": 3,
      "metadata": {},
      "outputs": [
        {
          "name": "stdout",
          "output_type": "stream",
          "text": [
            "torch.Size([100889, 2, 200])\n"
          ]
        }
      ],
      "source": [
        "everything = torch.cat((eeg_samples, eeg_fft), dim = 1)\n",
        "print(everything.size())"
      ]
    },
    {
      "cell_type": "code",
      "execution_count": 4,
      "metadata": {},
      "outputs": [
        {
          "name": "stdout",
          "output_type": "stream",
          "text": [
            "torch.Size([8306, 1, 200])\n"
          ]
        }
      ],
      "source": [
        "eeg_samples = eeg_samples[1694:10000]\n",
        "emg_samples = emg_samples[1694:10000]\n",
        "eeg_fft = eeg_fft[1694:10000]\n",
        "emg_fft = emg_fft[1694:10000]\n",
        "labels = labels[1694:10000]\n",
        "print(emg_samples.size())"
      ]
    },
    {
      "cell_type": "code",
      "execution_count": 5,
      "metadata": {
        "id": "zyiayC-svcUb"
      },
      "outputs": [],
      "source": [
        "#ds = torch.utils.data.TensorDataset(eeg_fft, emg_fft, labels)\n",
        "ds = torch.utils.data.TensorDataset(torch.cat((eeg_samples, eeg_fft), dim = 1), torch.cat((emg_samples, emg_fft), dim = 1), labels)\n",
        "\n",
        "train_size = int(len(ds) *.80)\n",
        "val_size = len(ds) - int(len(ds) *.80)\n",
        "\n",
        "train_dataset, val_dataset = torch.utils.data.random_split(ds, [train_size, val_size])\n",
        "\n",
        "train_loader = torch.utils.data.DataLoader(train_dataset, batch_size=100, shuffle=True)\n",
        "val_loader = torch.utils.data.DataLoader(val_dataset, batch_size=100, shuffle=True)"
      ]
    },
    {
      "cell_type": "code",
      "execution_count": 6,
      "metadata": {},
      "outputs": [],
      "source": [
        "device = torch.device(\"cuda:0\" if torch.cuda.is_available() else \"cpu\")"
      ]
    },
    {
      "attachments": {},
      "cell_type": "markdown",
      "metadata": {
        "id": "ARqeTEylME_o"
      },
      "source": [
        "**Creating class for Model**"
      ]
    },
    {
      "cell_type": "code",
      "execution_count": 7,
      "metadata": {
        "id": "O944bgcTwew9"
      },
      "outputs": [],
      "source": [
        "class CNN(nn.Module):\n",
        "    def __init__(self, period_size, input_channels=1):\n",
        "        super(CNN, self).__init__()\n",
        "        self.input_channels = input_channels\n",
        "\n",
        "        self.eeg_conv1 = nn.Conv1d(in_channels=input_channels, out_channels=period_size, kernel_size=period_size//2)\n",
        "        self.eeg_conv2 = nn.Conv1d(in_channels=period_size, out_channels=period_size//4, kernel_size=8)\n",
        "        self.eeg_conv3 = nn.Conv1d(in_channels=period_size // 4, out_channels=256, kernel_size=2)\n",
        "\n",
        "        self.emg_conv1 = nn.Conv1d(in_channels=input_channels, out_channels=period_size, kernel_size=period_size//2)\n",
        "        self.emg_conv2 = nn.Conv1d(in_channels=period_size, out_channels=period_size//4, kernel_size=8)\n",
        "        self.emg_conv3 = nn.Conv1d(in_channels=period_size // 4, out_channels=256, kernel_size=2)\n",
        "\n",
        "\n",
        "\n",
        "        self.fc1 = nn.Linear(2560*2, 20)\n",
        "        self.fc2 = nn.Linear(10, 4)\n",
        "\n",
        "\n",
        "    def forward(self, c1, c2):\n",
        "        #print(x.size())\n",
        "        c1 = self.eeg_conv1(c1)\n",
        "        c1 = F.relu(c1)\n",
        "        # print(x.size())\n",
        "        c1 = F.max_pool1d(c1, kernel_size=2)\n",
        "        c1 = self.eeg_conv2(c1)\n",
        "        c1 = F.max_pool1d(c1, kernel_size=2)\n",
        "        # print(x.size())\n",
        "        c1 = self.eeg_conv3(c1)\n",
        "        c1 = F.max_pool1d(c1, kernel_size=2)\n",
        "        #print(x.size())\n",
        "\n",
        "        c2 = self.eeg_conv1(c2)\n",
        "        c2 = F.relu(c2)\n",
        "        # print(x.size())\n",
        "        c2 = F.max_pool1d(c2, kernel_size=2)\n",
        "        c2 = self.eeg_conv2(c2)\n",
        "        c2 = F.max_pool1d(c2, kernel_size=2)\n",
        "        # print(x.size())\n",
        "        c2 = self.eeg_conv3(c2)\n",
        "        c2 = F.max_pool1d(c2, kernel_size=2)\n",
        "\n",
        "\n",
        "        c1c2 = torch.cat((c1, c2), dim=1)\n",
        "\n",
        "        c1c2 = c1c2.flatten(1)\n",
        "        #print(x.size())\n",
        "        c1c2 = self.fc1(c1c2)\n",
        "        c1c2 = F.max_pool1d(c1c2, kernel_size=2)\n",
        "        # print(x.size())\n",
        "        c1c2 = self.fc2(c1c2)\n",
        "        c1c2 = F.log_softmax(c1c2, dim=1)\n",
        "#ME      \n",
        "        #c1c2 = F.relu(c1c2)\n",
        "        \n",
        "        return c1c2"
      ]
    },
    {
      "cell_type": "code",
      "execution_count": 8,
      "metadata": {
        "id": "_ctcO4-KME_o"
      },
      "outputs": [],
      "source": [
        "def train_model(epochs, model):\n",
        "    model.train() # set model to training mode\n",
        "    loss_fun = nn.CrossEntropyLoss() #define a loss function object\n",
        "\n",
        "    for epoch in range(epochs):\n",
        "\n",
        "      for batch_idx, (channel1, channel2, target) in enumerate(train_loader):\n",
        "          #print(c)\n",
        "          # print(target)\n",
        "          channel1, channel2, target = channel1.to(device), channel2.to(device), target.to(device)\n",
        "          \n",
        "          optimizer.zero_grad()\n",
        "          output = model(channel1, channel2) # guess we have to pass all channels instead of data?\n",
        "          loss = loss_fun(output,target)\n",
        "          loss.backward()\n",
        "          optimizer.step()\n",
        "          if batch_idx % 100 == 0:\n",
        "              print('Train Epoch: {} [{}/{} ({:.0f}%)]\\tLoss: {:.6f}'.format(\n",
        "                  epoch, batch_idx * len(channel1), len(train_loader.dataset),\n",
        "                  100. * batch_idx / len(train_loader), loss.item()))"
      ]
    },
    {
      "cell_type": "code",
      "execution_count": 9,
      "metadata": {
        "id": "zWd70Kxjwyir"
      },
      "outputs": [
        {
          "name": "stdout",
          "output_type": "stream",
          "text": [
            "Train Epoch: 0 [0/6644 (0%)]\tLoss: 1.744318\n",
            "Train Epoch: 1 [0/6644 (0%)]\tLoss: 0.402384\n",
            "Train Epoch: 2 [0/6644 (0%)]\tLoss: 0.375209\n",
            "Train Epoch: 3 [0/6644 (0%)]\tLoss: 0.335434\n"
          ]
        },
        {
          "ename": "KeyboardInterrupt",
          "evalue": "",
          "output_type": "error",
          "traceback": [
            "\u001b[0;31m---------------------------------------------------------------------------\u001b[0m",
            "\u001b[0;31mKeyboardInterrupt\u001b[0m                         Traceback (most recent call last)",
            "Cell \u001b[0;32mIn[9], line 6\u001b[0m\n\u001b[1;32m      2\u001b[0m model\u001b[39m.\u001b[39mto(device)\n\u001b[1;32m      4\u001b[0m optimizer \u001b[39m=\u001b[39m torch\u001b[39m.\u001b[39moptim\u001b[39m.\u001b[39mSGD(model\u001b[39m.\u001b[39mparameters(), lr\u001b[39m=\u001b[39m\u001b[39m.01\u001b[39m, momentum\u001b[39m=\u001b[39m\u001b[39m0.9\u001b[39m)\n\u001b[0;32m----> 6\u001b[0m train_model(\u001b[39m10\u001b[39;49m, model)\n",
            "Cell \u001b[0;32mIn[8], line 15\u001b[0m, in \u001b[0;36mtrain_model\u001b[0;34m(epochs, model)\u001b[0m\n\u001b[1;32m     13\u001b[0m output \u001b[39m=\u001b[39m model(channel1, channel2) \u001b[39m# guess we have to pass all channels instead of data?\u001b[39;00m\n\u001b[1;32m     14\u001b[0m loss \u001b[39m=\u001b[39m loss_fun(output,target)\n\u001b[0;32m---> 15\u001b[0m loss\u001b[39m.\u001b[39;49mbackward()\n\u001b[1;32m     16\u001b[0m optimizer\u001b[39m.\u001b[39mstep()\n\u001b[1;32m     17\u001b[0m \u001b[39mif\u001b[39;00m batch_idx \u001b[39m%\u001b[39m \u001b[39m100\u001b[39m \u001b[39m==\u001b[39m \u001b[39m0\u001b[39m:\n",
            "File \u001b[0;32m~/Library/Python/3.8/lib/python/site-packages/torch/_tensor.py:487\u001b[0m, in \u001b[0;36mTensor.backward\u001b[0;34m(self, gradient, retain_graph, create_graph, inputs)\u001b[0m\n\u001b[1;32m    477\u001b[0m \u001b[39mif\u001b[39;00m has_torch_function_unary(\u001b[39mself\u001b[39m):\n\u001b[1;32m    478\u001b[0m     \u001b[39mreturn\u001b[39;00m handle_torch_function(\n\u001b[1;32m    479\u001b[0m         Tensor\u001b[39m.\u001b[39mbackward,\n\u001b[1;32m    480\u001b[0m         (\u001b[39mself\u001b[39m,),\n\u001b[0;32m   (...)\u001b[0m\n\u001b[1;32m    485\u001b[0m         inputs\u001b[39m=\u001b[39minputs,\n\u001b[1;32m    486\u001b[0m     )\n\u001b[0;32m--> 487\u001b[0m torch\u001b[39m.\u001b[39;49mautograd\u001b[39m.\u001b[39;49mbackward(\n\u001b[1;32m    488\u001b[0m     \u001b[39mself\u001b[39;49m, gradient, retain_graph, create_graph, inputs\u001b[39m=\u001b[39;49minputs\n\u001b[1;32m    489\u001b[0m )\n",
            "File \u001b[0;32m~/Library/Python/3.8/lib/python/site-packages/torch/autograd/__init__.py:200\u001b[0m, in \u001b[0;36mbackward\u001b[0;34m(tensors, grad_tensors, retain_graph, create_graph, grad_variables, inputs)\u001b[0m\n\u001b[1;32m    195\u001b[0m     retain_graph \u001b[39m=\u001b[39m create_graph\n\u001b[1;32m    197\u001b[0m \u001b[39m# The reason we repeat same the comment below is that\u001b[39;00m\n\u001b[1;32m    198\u001b[0m \u001b[39m# some Python versions print out the first line of a multi-line function\u001b[39;00m\n\u001b[1;32m    199\u001b[0m \u001b[39m# calls in the traceback and some print out the last line\u001b[39;00m\n\u001b[0;32m--> 200\u001b[0m Variable\u001b[39m.\u001b[39;49m_execution_engine\u001b[39m.\u001b[39;49mrun_backward(  \u001b[39m# Calls into the C++ engine to run the backward pass\u001b[39;49;00m\n\u001b[1;32m    201\u001b[0m     tensors, grad_tensors_, retain_graph, create_graph, inputs,\n\u001b[1;32m    202\u001b[0m     allow_unreachable\u001b[39m=\u001b[39;49m\u001b[39mTrue\u001b[39;49;00m, accumulate_grad\u001b[39m=\u001b[39;49m\u001b[39mTrue\u001b[39;49;00m)\n",
            "\u001b[0;31mKeyboardInterrupt\u001b[0m: "
          ]
        }
      ],
      "source": [
        "model = CNN(period_size, 2)\n",
        "model.to(device)\n",
        "  \n",
        "optimizer = torch.optim.SGD(model.parameters(), lr=.01, momentum=0.9)\n",
        "\n",
        "train_model(10, model)"
      ]
    },
    {
      "cell_type": "code",
      "execution_count": null,
      "metadata": {
        "id": "xX-YQFBoxmAa"
      },
      "outputs": [],
      "source": [
        "\n",
        "def evaluate_model(model, dataloader, is_test=False, confidence_level = -0.5):\n",
        "  # Set model to evaluation mode\n",
        "  predictions = []\n",
        "  labels_list = []\n",
        "  model.eval()\n",
        "\n",
        "  #dictionary to store the accuracy of predictions by sleep stage\n",
        "  acurracy_stages = {0:[], 1:[], 2:[], 3:[], 4:[]}\n",
        "  stage_names = [\"not sure(0): \", \"rem accuracy(1): \", \"non-rem accuracy(2): \", \"wake accuracy(3): \", \"artifact accuracy(4): \"]\n",
        "  \n",
        "\n",
        "  with torch.no_grad():\n",
        "    correct = 0\n",
        "    loss = 0\n",
        "\n",
        "    criterion = torch.nn.CrossEntropyLoss(reduction='none')\n",
        "\n",
        "    for channel1, channel2, target in dataloader:\n",
        "        channel1, channel2, target = channel1.to(device), channel2.to(device), target.to(device)\n",
        "        outputs = model(channel1, channel2)\n",
        "\n",
        "        loss += torch.sum(criterion(outputs, target)).item()\n",
        "\n",
        "        pred_value, pred = outputs.data.max(1, keepdim=True) # get the index of the max log-probability                                                         \n",
        "          \n",
        "        for i in range(len(target)):      \n",
        "          \n",
        "          #if the predicted value is lower that the confidence level, set the predicted value to 0 and the target value to 0\n",
        "           if pred_value[i] < confidence_level:\n",
        "            pred[i] = 0\n",
        "            target[i] = 0\n",
        "\n",
        "          #append boolean indicating whether or not each prediction matched the target to the apporpriate sleep stage list\n",
        "           acurracy_stages[target[i].item()].append(pred[i].eq(target[i]).item())\n",
        "           predictions.append(pred[i].item())\n",
        "           labels_list.append(target[i].item())\n",
        "      \n",
        "\n",
        "        correct += pred.eq(target.data.view_as(pred)).cpu().sum().item()               \n",
        "                \n",
        "#calculate accuracy for each stage\n",
        "    i = 0\n",
        "    for key in acurracy_stages.keys():\n",
        "\n",
        "       #acurracy_stages[key] = [acurracy_stages[key].count(True), (acurracy_stages[key].count(True) + acurracy_stages[key].count(False))]\n",
        "       stage_correct = str(acurracy_stages[key].count(True))\n",
        "       stage_total = str(acurracy_stages[key].count(True) + acurracy_stages[key].count(False))\n",
        "       stage_accuracy = str(int(100. * (int(stage_correct) / int(stage_total))))\n",
        "\n",
        "       print(stage_names[i] + stage_correct + \"/\" + stage_total + \" (\" + stage_accuracy + \"%)\")\n",
        "       i += 1\n",
        "\n",
        "#calculate total accuracy and loss\n",
        "    loss /= len(dataloader.dataset)\n",
        "    accuracy = 100. * correct / len(dataloader.dataset)\n",
        "    print('\\n{} set: Average loss: {:.4f}, Accuracy: {}/{} ({:.0f}%)\\n'.format(\n",
        "        \"Test\" if is_test else \"Validation\",\n",
        "        loss, correct, len(dataloader.dataset),\n",
        "        accuracy))\n",
        "\n",
        "  # Set model back to training mode\n",
        "  model.train()\n",
        "  return labels_list, predictions"
      ]
    },
    {
      "cell_type": "code",
      "execution_count": null,
      "metadata": {
        "id": "WXAO7Fpkxmqa"
      },
      "outputs": [
        {
          "name": "stdout",
          "output_type": "stream",
          "text": [
            "not sure(0): 46/46 (100%)\n",
            "rem accuracy(1): 0/762 (0%)\n",
            "non-rem accuracy(2): 5398/5854 (92%)\n",
            "wake accuracy(3): 12829/13273 (96%)\n",
            "artifact accuracy(4): 0/243 (0%)\n",
            "\n",
            "Test set: Average loss: 0.3292, Accuracy: 18273/20178 (91%)\n",
            "\n"
          ]
        }
      ],
      "source": [
        "#if you make the confidence level too low, you'll get an error about not being able to divede by 0,\n",
        "#that just means that none of the data is being classified to not sure, keep it below -.75 to avoid this\n",
        "\n",
        "labels_list, predictions = evaluate_model(model, val_loader, is_test=True, confidence_level= -.75)"
      ]
    },
    {
      "cell_type": "code",
      "execution_count": null,
      "metadata": {},
      "outputs": [
        {
          "name": "stdout",
          "output_type": "stream",
          "text": [
            "20178\n"
          ]
        }
      ],
      "source": [
        "from sklearn.metrics import classification_report\n",
        "\n",
        "target_names = ['Artifact', 'Wake', 'Non-REM', 'REM']\n",
        "print('Testing Report for Logistic Regression Model for Accuracy, Precision, Recall, and F1-Score')\n",
        "print('----------------------------------------------------------------------------------')\n",
        "print(classification_report(labels_list, prediction, target_names=target_names))"
      ]
    },
    {
      "cell_type": "code",
      "execution_count": null,
      "metadata": {},
      "outputs": [],
      "source": [
        "print(labels_list)\n",
        "print(len(predictions))"
      ]
    },
    {
      "attachments": {},
      "cell_type": "markdown",
      "metadata": {},
      "source": [
        "with more training data, the model almost always predicts wake becuase it's so overepresented, when i was running just 10000 periods, it was in the mid to low 90s for non-rem and rem accuracy but with all the data, it's 99% accurate for wake and in the 30s for non rem"
      ]
    }
  ],
  "metadata": {
    "colab": {
      "provenance": []
    },
    "kernelspec": {
      "display_name": "Python 3",
      "language": "python",
      "name": "python3"
    },
    "language_info": {
      "codemirror_mode": {
        "name": "ipython",
        "version": 3
      },
      "file_extension": ".py",
      "mimetype": "text/x-python",
      "name": "python",
      "nbconvert_exporter": "python",
      "pygments_lexer": "ipython3",
      "version": "3.8.2"
    },
    "orig_nbformat": 4
  },
  "nbformat": 4,
  "nbformat_minor": 0
}
