{
  "cells": [
    {
      "attachments": {},
      "cell_type": "markdown",
      "metadata": {
        "id": "hrVzIHilME_d"
      },
      "source": [
        "**Draft Model for Mice Steep Stage Analysis**"
      ]
    },
    {
      "cell_type": "code",
      "execution_count": 36,
      "metadata": {
        "id": "v448-jrIME_i"
      },
      "outputs": [],
      "source": [
        "import torch\n",
        "import torch.nn.functional as F\n",
        "from torch import optim, nn\n",
        "from torchvision import transforms, datasets, models\n",
        "\n",
        "\n",
        "import torch.utils.data as utils\n",
        "from inputMassager import *\n"
      ]
    },
    {
      "cell_type": "code",
      "execution_count": 55,
      "metadata": {
        "colab": {
          "base_uri": "https://localhost:8080/",
          "height": 393
        },
        "id": "2D54K3Q9ME_l",
        "outputId": "38cea99b-785e-418b-cbf1-f834d0e45127"
      },
      "outputs": [],
      "source": [
        "\n",
        "data_filepath = R\"C:\\Users\\regan\\Downloads\\CHDCtrl1_CHD801FR_normal\\CHD801FR_20221123_normal.txt\"\n",
        "annotated_filepath = R\"C:\\Users\\regan\\Downloads\\CHDCtrl1_CHD801FR_normal\\CHD801FR_20221123_normal_annotated.txt\"\n",
        "period_size = 200\n",
        "\n",
        "labels, eeg_samples, emg_samples, eeg_fft, emg_fft = get_labeled_data(data_filepath, annotated_filepath, period_size)"
      ]
    },
    {
      "cell_type": "code",
      "execution_count": 29,
      "metadata": {},
      "outputs": [
        {
          "name": "stdout",
          "output_type": "stream",
          "text": [
            "torch.Size([100889, 2, 200])\n"
          ]
        }
      ],
      "source": [
        "everything = torch.cat((eeg_samples, eeg_fft), dim = 1)\n",
        "print(everything.size())"
      ]
    },
    {
      "cell_type": "code",
      "execution_count": 54,
      "metadata": {},
      "outputs": [
        {
          "name": "stdout",
          "output_type": "stream",
          "text": [
            "torch.Size([6612, 1, 200])\n"
          ]
        }
      ],
      "source": [
        "eeg_samples = eeg_samples[1694:10000]\n",
        "emg_samples = emg_samples[1694:10000]\n",
        "eeg_fft = eeg_fft[1694:10000]\n",
        "emg_fft = emg_fft[1694:10000]\n",
        "labels = labels[1694:10000]\n",
        "print(emg_samples.size())"
      ]
    },
    {
      "cell_type": "code",
      "execution_count": 60,
      "metadata": {
        "id": "zyiayC-svcUb"
      },
      "outputs": [],
      "source": [
        "#ds = torch.utils.data.TensorDataset(eeg_fft, emg_fft, labels)\n",
        "ds = torch.utils.data.TensorDataset(torch.cat((eeg_samples, eeg_fft), dim = 1), torch.cat((emg_samples, emg_fft), dim = 1), labels)\n",
        "\n",
        "train_size = int(len(ds) *.80)\n",
        "val_size = len(ds) - int(len(ds) *.80)\n",
        "\n",
        "train_dataset, val_dataset = torch.utils.data.random_split(ds, [train_size, val_size])\n",
        "\n",
        "train_loader = torch.utils.data.DataLoader(train_dataset, batch_size=100, shuffle=True)\n",
        "val_loader = torch.utils.data.DataLoader(val_dataset, batch_size=100, shuffle=True)"
      ]
    },
    {
      "cell_type": "code",
      "execution_count": 61,
      "metadata": {},
      "outputs": [],
      "source": [
        "device = torch.device(\"cuda:0\" if torch.cuda.is_available() else \"cpu\")"
      ]
    },
    {
      "attachments": {},
      "cell_type": "markdown",
      "metadata": {
        "id": "ARqeTEylME_o"
      },
      "source": [
        "**Creating class for Model**"
      ]
    },
    {
      "cell_type": "code",
      "execution_count": 62,
      "metadata": {
        "id": "O944bgcTwew9"
      },
      "outputs": [],
      "source": [
        "class CNN(nn.Module):\n",
        "    def __init__(self, period_size, input_channels=1):\n",
        "        super(CNN, self).__init__()\n",
        "        self.input_channels = input_channels\n",
        "\n",
        "        self.eeg_conv1 = nn.Conv1d(in_channels=input_channels, out_channels=period_size, kernel_size=period_size//2)\n",
        "        self.eeg_conv2 = nn.Conv1d(in_channels=period_size, out_channels=period_size//4, kernel_size=8)\n",
        "        self.eeg_conv3 = nn.Conv1d(in_channels=period_size // 4, out_channels=256, kernel_size=2)\n",
        "\n",
        "        self.emg_conv1 = nn.Conv1d(in_channels=input_channels, out_channels=period_size, kernel_size=period_size//2)\n",
        "        self.emg_conv2 = nn.Conv1d(in_channels=period_size, out_channels=period_size//4, kernel_size=8)\n",
        "        self.emg_conv3 = nn.Conv1d(in_channels=period_size // 4, out_channels=256, kernel_size=2)\n",
        "\n",
        "\n",
        "\n",
        "        self.fc1 = nn.Linear(2560*2, 20)\n",
        "        self.fc2 = nn.Linear(10, 5)\n",
        "\n",
        "\n",
        "    def forward(self, c1, c2):\n",
        "        #print(x.size())\n",
        "        c1 = self.eeg_conv1(c1)\n",
        "        c1 = F.relu(c1)\n",
        "        # print(x.size())\n",
        "        c1 = F.max_pool1d(c1, kernel_size=2)\n",
        "        c1 = self.eeg_conv2(c1)\n",
        "        c1 = F.max_pool1d(c1, kernel_size=2)\n",
        "        # print(x.size())\n",
        "        c1 = self.eeg_conv3(c1)\n",
        "        c1 = F.max_pool1d(c1, kernel_size=2)\n",
        "        #print(x.size())\n",
        "\n",
        "        c2 = self.eeg_conv1(c2)\n",
        "        c2 = F.relu(c2)\n",
        "        # print(x.size())\n",
        "        c2 = F.max_pool1d(c2, kernel_size=2)\n",
        "        c2 = self.eeg_conv2(c2)\n",
        "        c2 = F.max_pool1d(c2, kernel_size=2)\n",
        "        # print(x.size())\n",
        "        c2 = self.eeg_conv3(c2)\n",
        "        c2 = F.max_pool1d(c2, kernel_size=2)\n",
        "\n",
        "\n",
        "        c1c2 = torch.cat((c1, c2), dim=1)\n",
        "\n",
        "        c1c2 = c1c2.flatten(1)\n",
        "        #print(x.size())\n",
        "        c1c2 = self.fc1(c1c2)\n",
        "        c1c2 = F.max_pool1d(c1c2, kernel_size=2)\n",
        "        # print(x.size())\n",
        "        c1c2 = self.fc2(c1c2)\n",
        "        c1c2 = F.log_softmax(c1c2, dim=1)\n",
        "#ME      \n",
        "        #c1c2 = F.relu(c1c2)\n",
        "        \n",
        "        return c1c2"
      ]
    },
    {
      "cell_type": "code",
      "execution_count": 63,
      "metadata": {
        "id": "_ctcO4-KME_o"
      },
      "outputs": [],
      "source": [
        "def train_model(epochs, model):\n",
        "    model.train() # set model to training mode\n",
        "    loss_fun = nn.CrossEntropyLoss() #define a loss function object\n",
        "\n",
        "    for epoch in range(epochs):\n",
        "\n",
        "      for batch_idx, (channel1, channel2, target) in enumerate(train_loader):\n",
        "          #print(c)\n",
        "          # print(target)\n",
        "          channel1, channel2, target = channel1.to(device), channel2.to(device), target.to(device)\n",
        "          \n",
        "          optimizer.zero_grad()\n",
        "          output = model(channel1, channel2) # guess we have to pass all channels instead of data?\n",
        "          loss = loss_fun(output,target)\n",
        "          loss.backward()\n",
        "          optimizer.step()\n",
        "          if batch_idx % 100 == 0:\n",
        "              print('Train Epoch: {} [{}/{} ({:.0f}%)]\\tLoss: {:.6f}'.format(\n",
        "                  epoch, batch_idx * len(channel1), len(train_loader.dataset),\n",
        "                  100. * batch_idx / len(train_loader), loss.item()))"
      ]
    },
    {
      "cell_type": "code",
      "execution_count": 65,
      "metadata": {
        "id": "zWd70Kxjwyir"
      },
      "outputs": [
        {
          "name": "stdout",
          "output_type": "stream",
          "text": [
            "Train Epoch: 0 [0/80711 (0%)]\tLoss: 1.720125\n",
            "Train Epoch: 0 [10000/80711 (12%)]\tLoss: 0.266072\n",
            "Train Epoch: 0 [20000/80711 (25%)]\tLoss: 0.477551\n",
            "Train Epoch: 0 [30000/80711 (37%)]\tLoss: 0.496513\n",
            "Train Epoch: 0 [40000/80711 (50%)]\tLoss: 0.432046\n",
            "Train Epoch: 0 [50000/80711 (62%)]\tLoss: 0.348840\n",
            "Train Epoch: 0 [60000/80711 (74%)]\tLoss: 0.415588\n",
            "Train Epoch: 0 [70000/80711 (87%)]\tLoss: 0.291467\n",
            "Train Epoch: 0 [80000/80711 (99%)]\tLoss: 0.346497\n",
            "Train Epoch: 1 [0/80711 (0%)]\tLoss: 0.249275\n",
            "Train Epoch: 1 [10000/80711 (12%)]\tLoss: 0.371472\n",
            "Train Epoch: 1 [20000/80711 (25%)]\tLoss: 0.372458\n",
            "Train Epoch: 1 [30000/80711 (37%)]\tLoss: 0.331098\n",
            "Train Epoch: 1 [40000/80711 (50%)]\tLoss: 0.493578\n",
            "Train Epoch: 1 [50000/80711 (62%)]\tLoss: 0.483175\n",
            "Train Epoch: 1 [60000/80711 (74%)]\tLoss: 0.284411\n",
            "Train Epoch: 1 [70000/80711 (87%)]\tLoss: 0.320506\n",
            "Train Epoch: 1 [80000/80711 (99%)]\tLoss: 0.202735\n",
            "Train Epoch: 2 [0/80711 (0%)]\tLoss: 0.309451\n",
            "Train Epoch: 2 [10000/80711 (12%)]\tLoss: 0.310502\n",
            "Train Epoch: 2 [20000/80711 (25%)]\tLoss: 0.224137\n",
            "Train Epoch: 2 [30000/80711 (37%)]\tLoss: 0.404096\n",
            "Train Epoch: 2 [40000/80711 (50%)]\tLoss: 0.291350\n",
            "Train Epoch: 2 [50000/80711 (62%)]\tLoss: 0.289684\n",
            "Train Epoch: 2 [60000/80711 (74%)]\tLoss: 0.316828\n",
            "Train Epoch: 2 [70000/80711 (87%)]\tLoss: 0.363070\n",
            "Train Epoch: 2 [80000/80711 (99%)]\tLoss: 0.470365\n",
            "Train Epoch: 3 [0/80711 (0%)]\tLoss: 0.337651\n",
            "Train Epoch: 3 [10000/80711 (12%)]\tLoss: 0.361350\n",
            "Train Epoch: 3 [20000/80711 (25%)]\tLoss: 0.243897\n",
            "Train Epoch: 3 [30000/80711 (37%)]\tLoss: 0.173093\n",
            "Train Epoch: 3 [40000/80711 (50%)]\tLoss: 0.447444\n",
            "Train Epoch: 3 [50000/80711 (62%)]\tLoss: 0.193754\n",
            "Train Epoch: 3 [60000/80711 (74%)]\tLoss: 0.274304\n",
            "Train Epoch: 3 [70000/80711 (87%)]\tLoss: 0.320261\n",
            "Train Epoch: 3 [80000/80711 (99%)]\tLoss: 0.390502\n",
            "Train Epoch: 4 [0/80711 (0%)]\tLoss: 0.382643\n",
            "Train Epoch: 4 [10000/80711 (12%)]\tLoss: 0.205362\n",
            "Train Epoch: 4 [20000/80711 (25%)]\tLoss: 0.311897\n",
            "Train Epoch: 4 [30000/80711 (37%)]\tLoss: 0.249403\n",
            "Train Epoch: 4 [40000/80711 (50%)]\tLoss: 0.333774\n",
            "Train Epoch: 4 [50000/80711 (62%)]\tLoss: 0.418809\n",
            "Train Epoch: 4 [60000/80711 (74%)]\tLoss: 0.178036\n",
            "Train Epoch: 4 [70000/80711 (87%)]\tLoss: 0.421906\n",
            "Train Epoch: 4 [80000/80711 (99%)]\tLoss: 0.251293\n",
            "Train Epoch: 5 [0/80711 (0%)]\tLoss: 0.223266\n",
            "Train Epoch: 5 [10000/80711 (12%)]\tLoss: 0.357368\n",
            "Train Epoch: 5 [20000/80711 (25%)]\tLoss: 0.403388\n",
            "Train Epoch: 5 [30000/80711 (37%)]\tLoss: 0.353061\n",
            "Train Epoch: 5 [40000/80711 (50%)]\tLoss: 0.352102\n",
            "Train Epoch: 5 [50000/80711 (62%)]\tLoss: 0.221949\n",
            "Train Epoch: 5 [60000/80711 (74%)]\tLoss: 0.376998\n",
            "Train Epoch: 5 [70000/80711 (87%)]\tLoss: 0.282279\n"
          ]
        },
        {
          "ename": "KeyboardInterrupt",
          "evalue": "",
          "output_type": "error",
          "traceback": [
            "\u001b[1;31m---------------------------------------------------------------------------\u001b[0m",
            "\u001b[1;31mKeyboardInterrupt\u001b[0m                         Traceback (most recent call last)",
            "\u001b[1;32mc:\\Users\\regan\\OneDrive\\Documents\\GitHub\\mice-sleep-analysis\\LilCNN.ipynb Cell 11\u001b[0m in \u001b[0;36m6\n\u001b[0;32m      <a href='vscode-notebook-cell:/c%3A/Users/regan/OneDrive/Documents/GitHub/mice-sleep-analysis/LilCNN.ipynb#X11sZmlsZQ%3D%3D?line=1'>2</a>\u001b[0m model\u001b[39m.\u001b[39mto(device)\n\u001b[0;32m      <a href='vscode-notebook-cell:/c%3A/Users/regan/OneDrive/Documents/GitHub/mice-sleep-analysis/LilCNN.ipynb#X11sZmlsZQ%3D%3D?line=3'>4</a>\u001b[0m optimizer \u001b[39m=\u001b[39m torch\u001b[39m.\u001b[39moptim\u001b[39m.\u001b[39mSGD(model\u001b[39m.\u001b[39mparameters(), lr\u001b[39m=\u001b[39m\u001b[39m.01\u001b[39m, momentum\u001b[39m=\u001b[39m\u001b[39m0.9\u001b[39m)\n\u001b[1;32m----> <a href='vscode-notebook-cell:/c%3A/Users/regan/OneDrive/Documents/GitHub/mice-sleep-analysis/LilCNN.ipynb#X11sZmlsZQ%3D%3D?line=5'>6</a>\u001b[0m train_model(\u001b[39m10\u001b[39m, model)\n",
            "\u001b[1;32mc:\\Users\\regan\\OneDrive\\Documents\\GitHub\\mice-sleep-analysis\\LilCNN.ipynb Cell 11\u001b[0m in \u001b[0;36m1\n\u001b[0;32m     <a href='vscode-notebook-cell:/c%3A/Users/regan/OneDrive/Documents/GitHub/mice-sleep-analysis/LilCNN.ipynb#X11sZmlsZQ%3D%3D?line=9'>10</a>\u001b[0m channel1, channel2, target \u001b[39m=\u001b[39m channel1\u001b[39m.\u001b[39mto(device), channel2\u001b[39m.\u001b[39mto(device), target\u001b[39m.\u001b[39mto(device)\n\u001b[0;32m     <a href='vscode-notebook-cell:/c%3A/Users/regan/OneDrive/Documents/GitHub/mice-sleep-analysis/LilCNN.ipynb#X11sZmlsZQ%3D%3D?line=11'>12</a>\u001b[0m optimizer\u001b[39m.\u001b[39mzero_grad()\n\u001b[1;32m---> <a href='vscode-notebook-cell:/c%3A/Users/regan/OneDrive/Documents/GitHub/mice-sleep-analysis/LilCNN.ipynb#X11sZmlsZQ%3D%3D?line=12'>13</a>\u001b[0m output \u001b[39m=\u001b[39m model(channel1, channel2) \u001b[39m# guess we have to pass all channels instead of data?\u001b[39;00m\n\u001b[0;32m     <a href='vscode-notebook-cell:/c%3A/Users/regan/OneDrive/Documents/GitHub/mice-sleep-analysis/LilCNN.ipynb#X11sZmlsZQ%3D%3D?line=13'>14</a>\u001b[0m loss \u001b[39m=\u001b[39m loss_fun(output,target)\n\u001b[0;32m     <a href='vscode-notebook-cell:/c%3A/Users/regan/OneDrive/Documents/GitHub/mice-sleep-analysis/LilCNN.ipynb#X11sZmlsZQ%3D%3D?line=14'>15</a>\u001b[0m loss\u001b[39m.\u001b[39mbackward()\n",
            "File \u001b[1;32m~\\AppData\\Local\\Packages\\PythonSoftwareFoundation.Python.3.10_qbz5n2kfra8p0\\LocalCache\\local-packages\\Python310\\site-packages\\torch\\nn\\modules\\module.py:1501\u001b[0m, in \u001b[0;36mModule._call_impl\u001b[1;34m(self, *args, **kwargs)\u001b[0m\n\u001b[0;32m   1496\u001b[0m \u001b[39m# If we don't have any hooks, we want to skip the rest of the logic in\u001b[39;00m\n\u001b[0;32m   1497\u001b[0m \u001b[39m# this function, and just call forward.\u001b[39;00m\n\u001b[0;32m   1498\u001b[0m \u001b[39mif\u001b[39;00m \u001b[39mnot\u001b[39;00m (\u001b[39mself\u001b[39m\u001b[39m.\u001b[39m_backward_hooks \u001b[39mor\u001b[39;00m \u001b[39mself\u001b[39m\u001b[39m.\u001b[39m_backward_pre_hooks \u001b[39mor\u001b[39;00m \u001b[39mself\u001b[39m\u001b[39m.\u001b[39m_forward_hooks \u001b[39mor\u001b[39;00m \u001b[39mself\u001b[39m\u001b[39m.\u001b[39m_forward_pre_hooks\n\u001b[0;32m   1499\u001b[0m         \u001b[39mor\u001b[39;00m _global_backward_pre_hooks \u001b[39mor\u001b[39;00m _global_backward_hooks\n\u001b[0;32m   1500\u001b[0m         \u001b[39mor\u001b[39;00m _global_forward_hooks \u001b[39mor\u001b[39;00m _global_forward_pre_hooks):\n\u001b[1;32m-> 1501\u001b[0m     \u001b[39mreturn\u001b[39;00m forward_call(\u001b[39m*\u001b[39margs, \u001b[39m*\u001b[39m\u001b[39m*\u001b[39mkwargs)\n\u001b[0;32m   1502\u001b[0m \u001b[39m# Do not call functions when jit is used\u001b[39;00m\n\u001b[0;32m   1503\u001b[0m full_backward_hooks, non_full_backward_hooks \u001b[39m=\u001b[39m [], []\n",
            "\u001b[1;32mc:\\Users\\regan\\OneDrive\\Documents\\GitHub\\mice-sleep-analysis\\LilCNN.ipynb Cell 11\u001b[0m in \u001b[0;36m3\n\u001b[0;32m     <a href='vscode-notebook-cell:/c%3A/Users/regan/OneDrive/Documents/GitHub/mice-sleep-analysis/LilCNN.ipynb#X11sZmlsZQ%3D%3D?line=35'>36</a>\u001b[0m c2 \u001b[39m=\u001b[39m F\u001b[39m.\u001b[39mmax_pool1d(c2, kernel_size\u001b[39m=\u001b[39m\u001b[39m2\u001b[39m)\n\u001b[0;32m     <a href='vscode-notebook-cell:/c%3A/Users/regan/OneDrive/Documents/GitHub/mice-sleep-analysis/LilCNN.ipynb#X11sZmlsZQ%3D%3D?line=36'>37</a>\u001b[0m c2 \u001b[39m=\u001b[39m \u001b[39mself\u001b[39m\u001b[39m.\u001b[39meeg_conv2(c2)\n\u001b[1;32m---> <a href='vscode-notebook-cell:/c%3A/Users/regan/OneDrive/Documents/GitHub/mice-sleep-analysis/LilCNN.ipynb#X11sZmlsZQ%3D%3D?line=37'>38</a>\u001b[0m c2 \u001b[39m=\u001b[39m F\u001b[39m.\u001b[39;49mmax_pool1d(c2, kernel_size\u001b[39m=\u001b[39;49m\u001b[39m2\u001b[39;49m)\n\u001b[0;32m     <a href='vscode-notebook-cell:/c%3A/Users/regan/OneDrive/Documents/GitHub/mice-sleep-analysis/LilCNN.ipynb#X11sZmlsZQ%3D%3D?line=38'>39</a>\u001b[0m \u001b[39m# print(x.size())\u001b[39;00m\n\u001b[0;32m     <a href='vscode-notebook-cell:/c%3A/Users/regan/OneDrive/Documents/GitHub/mice-sleep-analysis/LilCNN.ipynb#X11sZmlsZQ%3D%3D?line=39'>40</a>\u001b[0m c2 \u001b[39m=\u001b[39m \u001b[39mself\u001b[39m\u001b[39m.\u001b[39meeg_conv3(c2)\n",
            "File \u001b[1;32m~\\AppData\\Local\\Packages\\PythonSoftwareFoundation.Python.3.10_qbz5n2kfra8p0\\LocalCache\\local-packages\\Python310\\site-packages\\torch\\_jit_internal.py:484\u001b[0m, in \u001b[0;36mboolean_dispatch.<locals>.fn\u001b[1;34m(*args, **kwargs)\u001b[0m\n\u001b[0;32m    482\u001b[0m     \u001b[39mreturn\u001b[39;00m if_true(\u001b[39m*\u001b[39margs, \u001b[39m*\u001b[39m\u001b[39m*\u001b[39mkwargs)\n\u001b[0;32m    483\u001b[0m \u001b[39melse\u001b[39;00m:\n\u001b[1;32m--> 484\u001b[0m     \u001b[39mreturn\u001b[39;00m if_false(\u001b[39m*\u001b[39margs, \u001b[39m*\u001b[39m\u001b[39m*\u001b[39mkwargs)\n",
            "File \u001b[1;32m~\\AppData\\Local\\Packages\\PythonSoftwareFoundation.Python.3.10_qbz5n2kfra8p0\\LocalCache\\local-packages\\Python310\\site-packages\\torch\\nn\\functional.py:696\u001b[0m, in \u001b[0;36m_max_pool1d\u001b[1;34m(input, kernel_size, stride, padding, dilation, ceil_mode, return_indices)\u001b[0m\n\u001b[0;32m    694\u001b[0m \u001b[39mif\u001b[39;00m stride \u001b[39mis\u001b[39;00m \u001b[39mNone\u001b[39;00m:\n\u001b[0;32m    695\u001b[0m     stride \u001b[39m=\u001b[39m torch\u001b[39m.\u001b[39mjit\u001b[39m.\u001b[39mannotate(List[\u001b[39mint\u001b[39m], [])\n\u001b[1;32m--> 696\u001b[0m \u001b[39mreturn\u001b[39;00m torch\u001b[39m.\u001b[39;49mmax_pool1d(\u001b[39minput\u001b[39;49m, kernel_size, stride, padding, dilation, ceil_mode)\n",
            "\u001b[1;31mKeyboardInterrupt\u001b[0m: "
          ]
        }
      ],
      "source": [
        "model = CNN(period_size, 2)\n",
        "model.to(device)\n",
        "  \n",
        "optimizer = torch.optim.SGD(model.parameters(), lr=.01, momentum=0.9)\n",
        "\n",
        "train_model(10, model)"
      ]
    },
    {
      "cell_type": "code",
      "execution_count": 73,
      "metadata": {
        "id": "xX-YQFBoxmAa"
      },
      "outputs": [],
      "source": [
        "predictions = []\n",
        "def evaluate_model(model, dataloader, is_test=False, confidence_level = -0.5):\n",
        "  # Set model to evaluation mode\n",
        "  model.eval()\n",
        "\n",
        "  #dictionary to store the accuracy of predictions by sleep stage\n",
        "  acurracy_stages = {0:[], 1:[], 2:[], 3:[], 4:[]}\n",
        "  stage_names = [\"not sure(0): \", \"rem accuracy(1): \", \"non-rem accuracy(2): \", \"wake accuracy(3): \", \"artifact accuracy(4): \"]\n",
        "  \n",
        "\n",
        "  with torch.no_grad():\n",
        "    correct = 0\n",
        "    loss = 0\n",
        "\n",
        "    criterion = torch.nn.CrossEntropyLoss(reduction='none')\n",
        "\n",
        "    for channel1, channel2, target in dataloader:\n",
        "        channel1, channel2, target = channel1.to(device), channel2.to(device), target.to(device)\n",
        "        outputs = model(channel1, channel2)\n",
        "\n",
        "        loss += torch.sum(criterion(outputs, target)).item()\n",
        "\n",
        "        pred_value, pred = outputs.data.max(1, keepdim=True) # get the index of the max log-probability                                                         \n",
        "          \n",
        "        for i in range(len(target)):      \n",
        "          \n",
        "          #if the predicted value is lower that the confidence level, set the predicted value to 0 and the target value to 0\n",
        "           if pred_value[i] < confidence_level:\n",
        "            pred[i] = 0\n",
        "            target[i] = 0\n",
        "\n",
        "          #append boolean indicating whether or not each prediction matched the target to the apporpriate sleep stage list\n",
        "           acurracy_stages[target[i].item()].append(pred[i].eq(target[i]).item())\n",
        "           predictions.append(pred[i].item())\n",
        "\n",
        "\n",
        "        correct += pred.eq(target.data.view_as(pred)).cpu().sum().item()               \n",
        "                \n",
        "#calculate accuracy for each stage\n",
        "    i = 0\n",
        "    for key in acurracy_stages.keys():\n",
        "\n",
        "       #acurracy_stages[key] = [acurracy_stages[key].count(True), (acurracy_stages[key].count(True) + acurracy_stages[key].count(False))]\n",
        "       stage_correct = str(acurracy_stages[key].count(True))\n",
        "       stage_total = str(acurracy_stages[key].count(True) + acurracy_stages[key].count(False))\n",
        "       stage_accuracy = str(int(100. * (int(stage_correct) / int(stage_total))))\n",
        "\n",
        "       print(stage_names[i] + stage_correct + \"/\" + stage_total + \" (\" + stage_accuracy + \"%)\")\n",
        "       i += 1\n",
        "\n",
        "#calculate total accuracy and loss\n",
        "    loss /= len(dataloader.dataset)\n",
        "    accuracy = 100. * correct / len(dataloader.dataset)\n",
        "    print('\\n{} set: Average loss: {:.4f}, Accuracy: {}/{} ({:.0f}%)\\n'.format(\n",
        "        \"Test\" if is_test else \"Validation\",\n",
        "        loss, correct, len(dataloader.dataset),\n",
        "        accuracy))\n",
        "\n",
        "  # Set model back to training mode\n",
        "  model.train()"
      ]
    },
    {
      "cell_type": "code",
      "execution_count": 74,
      "metadata": {
        "id": "WXAO7Fpkxmqa"
      },
      "outputs": [
        {
          "name": "stdout",
          "output_type": "stream",
          "text": [
            "not sure(0): 46/46 (100%)\n",
            "rem accuracy(1): 0/762 (0%)\n",
            "non-rem accuracy(2): 5398/5854 (92%)\n",
            "wake accuracy(3): 12829/13273 (96%)\n",
            "artifact accuracy(4): 0/243 (0%)\n",
            "\n",
            "Test set: Average loss: 0.3292, Accuracy: 18273/20178 (91%)\n",
            "\n"
          ]
        }
      ],
      "source": [
        "#if you make the confidence level too low, you'll get an error about not being able to divede by 0,\n",
        "#that just means that none of the data is being classified to not sure, keep it below -.75 to avoid this\n",
        "\n",
        "evaluate_model(model, val_loader, is_test=True, confidence_level= -.75)"
      ]
    },
    {
      "cell_type": "code",
      "execution_count": 76,
      "metadata": {},
      "outputs": [
        {
          "name": "stdout",
          "output_type": "stream",
          "text": [
            "20178\n"
          ]
        }
      ],
      "source": [
        "print(len(predictions))"
      ]
    },
    {
      "attachments": {},
      "cell_type": "markdown",
      "metadata": {},
      "source": [
        "with more training data, the model almost always predicts wake becuase it's so overepresented, when i was running just 10000 periods, it was in the mid to low 90s for non-rem and rem accuracy but with all the data, it's 99% accurate for wake and in the 30s for non rem"
      ]
    }
  ],
  "metadata": {
    "colab": {
      "provenance": []
    },
    "kernelspec": {
      "display_name": "Python 3",
      "language": "python",
      "name": "python3"
    },
    "language_info": {
      "codemirror_mode": {
        "name": "ipython",
        "version": 3
      },
      "file_extension": ".py",
      "mimetype": "text/x-python",
      "name": "python",
      "nbconvert_exporter": "python",
      "pygments_lexer": "ipython3",
      "version": "3.10.11"
    },
    "orig_nbformat": 4
  },
  "nbformat": 4,
  "nbformat_minor": 0
}
