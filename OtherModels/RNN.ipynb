{
  "cells": [
    {
      "attachments": {},
      "cell_type": "markdown",
      "metadata": {
        "id": "hrVzIHilME_d"
      },
      "source": [
        "**Draft Model for Mice Steep Stage Analysis**"
      ]
    },
    {
      "cell_type": "code",
      "execution_count": 1,
      "metadata": {
        "id": "v448-jrIME_i"
      },
      "outputs": [],
      "source": [
        "import random\n",
        "import numpy as np\n",
        "import pandas as pd\n",
        "import os\n",
        "import re\n",
        "import copy\n",
        "import matplotlib.pyplot as plt\n",
        "\n",
        "import torch\n",
        "from torch import optim, nn\n",
        "from torchvision import transforms, datasets, models\n",
        "\n",
        "from collections import OrderedDict\n",
        "\n",
        "import torch.utils.data as utils\n",
        "\n",
        "from sklearn.preprocessing import LabelBinarizer\n",
        "from sklearn.metrics import accuracy_score\n",
        "\n",
        "import tkinter as tk #tk for file dialog (requires Jinja2!!!)\n",
        "from tkinter import filedialog #tkinter for file dialog\n",
        "\n",
        "import re #regex for parsing\n",
        "from os.path import exists\n"
      ]
    },
    {
      "cell_type": "code",
      "execution_count": 2,
      "metadata": {
        "colab": {
          "base_uri": "https://localhost:8080/",
          "height": 393
        },
        "id": "2D54K3Q9ME_l",
        "outputId": "38cea99b-785e-418b-cbf1-f834d0e45127"
      },
      "outputs": [],
      "source": [
        "from inputMassager import *\n",
        "inputHandler = inputMassager()\n",
        "\n",
        "filepath = inputHandler.askForInput(\"Blah!\")\n",
        "\n",
        "#Period Size Variable : effects CNN architecture\n",
        "periodSize = 200\n",
        "num_periods = 60000\n",
        "\n",
        "#makePeriodFromTxt(self, filepath, periodSize, maxPeriods=None):\n",
        "periods = makePeriodFromTxt(filepath, periodSize, num_periods)\n",
        "\n",
        "\n",
        "# target = regan and audreys code ---> This is what will go into the data loader\n",
        "filepath2 = inputHandler.askForInput(\"Blah!\")\n",
        "timestamps = find_time_labels(filepath2)\n",
        "labels, _, _ = label_dataframe_new(periods, timestamps, periodSize)\n"
      ]
    },
    {
      "attachments": {},
      "cell_type": "markdown",
      "metadata": {
        "id": "sSl7-UG0wJwI"
      },
      "source": [
        "Make a tensor out of eeg data (c1)"
      ]
    },
    {
      "cell_type": "code",
      "execution_count": 3,
      "metadata": {
        "id": "zyiayC-svcUb"
      },
      "outputs": [],
      "source": [
        "def getChannelTensors():\n",
        "    #The tensor has to be 3 dimesional with the second dimesion equal to one in order to pass it through a 1d convolutional layer\n",
        "    c1_tensor = torch.zeros((len(periods.c1.values), 1, periodSize)) \n",
        "    c2_tensor = torch.zeros((len(periods.c2.values), 1, periodSize)) \n",
        "    for i in range(len(periods.c1.values)):\n",
        "        c1_tensor[i, 0] = torch.tensor(periods.c1.values[i])\n",
        "        c2_tensor[i, 0] = torch.tensor(periods.c1.values[i])\n",
        "    \n",
        "    return c1_tensor, c2_tensor\n",
        "\n",
        "eeg_samples, emg_samples = getChannelTensors()"
      ]
    },
    {
      "attachments": {},
      "cell_type": "markdown",
      "metadata": {
        "id": "oWNKVo4pwAt2"
      },
      "source": [
        "Make the train and validation data loaders  "
      ]
    },
    {
      "cell_type": "code",
      "execution_count": 4,
      "metadata": {
        "id": "HfCwPJdEME_m"
      },
      "outputs": [
        {
          "name": "stdout",
          "output_type": "stream",
          "text": [
            "tensor([4, 2, 2,  ..., 2, 2, 2])\n"
          ]
        },
        {
          "name": "stderr",
          "output_type": "stream",
          "text": [
            "/var/folders/dg/6gzrkj09311g91kn90n1qdcc0000gn/T/ipykernel_56669/330330635.py:2: UserWarning: To copy construct from a tensor, it is recommended to use sourceTensor.clone().detach() or sourceTensor.clone().detach().requires_grad_(True), rather than torch.tensor(sourceTensor).\n",
            "  print(torch.tensor(labels))\n",
            "/var/folders/dg/6gzrkj09311g91kn90n1qdcc0000gn/T/ipykernel_56669/330330635.py:4: UserWarning: To copy construct from a tensor, it is recommended to use sourceTensor.clone().detach() or sourceTensor.clone().detach().requires_grad_(True), rather than torch.tensor(sourceTensor).\n",
            "  ds = torch.utils.data.TensorDataset(eeg_samples, torch.tensor(labels))\n"
          ]
        }
      ],
      "source": [
        "#print(eeg_samples)\n",
        "print(torch.tensor(labels))\n",
        "\n",
        "ds = torch.utils.data.TensorDataset(eeg_samples, torch.tensor(labels))\n",
        "train_dataset, val_dataset = torch.utils.data.random_split(ds, [int(len(ds) *.80), int(len(ds) *.2)])\n",
        "\n",
        "train_loader = torch.utils.data.DataLoader(train_dataset, batch_size=100, shuffle=True)\n",
        "val_loader = torch.utils.data.DataLoader(val_dataset, batch_size=100, shuffle=True)"
      ]
    },
    {
      "cell_type": "code",
      "execution_count": 5,
      "metadata": {
        "id": "XTMoRVDAv-Kf"
      },
      "outputs": [],
      "source": [
        "device = torch.device(\"cuda:0\" if torch.cuda.is_available() else \"cpu\")"
      ]
    },
    {
      "attachments": {},
      "cell_type": "markdown",
      "metadata": {
        "id": "ARqeTEylME_o"
      },
      "source": [
        "**Creating class for Model**"
      ]
    },
    {
      "cell_type": "code",
      "execution_count": 6,
      "metadata": {
        "id": "O944bgcTwew9"
      },
      "outputs": [],
      "source": [
        "class SimpleRNN(nn.Module):\n",
        "    def __init__(self, input_size, hidden_size, output_size):\n",
        "        # This just calls the base class constructor\n",
        "        super().__init__()\n",
        "        # Neural network layers assigned as attributes of a Module subclass\n",
        "        # have their parameters registered for training automatically.\n",
        "\n",
        "        # batch_first=True\n",
        "        self.rnn = torch.nn.RNN(input_size, hidden_size, nonlinearity='relu')\n",
        "        self.linear = torch.nn.Linear(hidden_size, output_size)\n",
        "\n",
        "    def forward(self, x):\n",
        "        # The RNN also returns its hidden state but we don't use it.\n",
        "        # While the RNN can also take a hidden state as input, the RNN\n",
        "        # gets passed a hidden state initialized with zeros by default.\n",
        "        # print('size of x', x.size())\n",
        "        h = self.rnn(x)[0]\n",
        "        # print('shape of h', h.shape())\n",
        "        x = self.linear(h)\n",
        "        return x"
      ]
    },
    {
      "cell_type": "code",
      "execution_count": 7,
      "metadata": {},
      "outputs": [],
      "source": [
        "def train(model, train_data_gen, criterion, optimizer, device):\n",
        "    # Set the model to training mode. This will turn on layers that would\n",
        "    # otherwise behave differently during evaluation, such as dropout.\n",
        "    model.train()\n",
        "\n",
        "    # Store the number of sequences that were classified correctly\n",
        "    num_correct = 0\n",
        "\n",
        "    # Iterate over every batch of sequences. Note that the length of a data generator\n",
        "    # is defined as the number of batches required to produce a total of roughly 1000\n",
        "    # sequences given a batch size.\n",
        "    for batch_idx, (data, target) in enumerate(train_data_gen):\n",
        "        data, target = data.to(device), target.to(device)\n",
        "\n",
        "        # Perform the forward pass of the model\n",
        "        output = model(data)  # Step ①\n",
        "\n",
        "        output = output[:, -1, :]\n",
        "\n",
        "        # Compute the value of the loss for this batch. For loss functions like CrossEntropyLoss,\n",
        "        # the second argument is actually expected to be a tensor of class indices rather than\n",
        "        # one-hot encoded class labels. One approach is to take advantage of the one-hot encoding\n",
        "        # of the target and call argmax along its second dimension to create a tensor of shape\n",
        "        # (batch_size) containing the index of the class label that was hot for each sequence.\n",
        "\n",
        "        # print('hi', output.size())\n",
        "        # print(target.size())\n",
        "\n",
        "        loss = criterion(output, target)  # Step ②\n",
        "\n",
        "        # Clear the gradient buffers of the optimized parameters.\n",
        "        # Otherwise, gradients from the previous batch would be accumulated.\n",
        "        optimizer.zero_grad()  # Step ③\n",
        "\n",
        "        loss.backward()  # Step ④\n",
        "\n",
        "        optimizer.step()  # Step ⑤\n",
        "\n",
        "        y_pred = output.argmax(dim=1)\n",
        "        num_correct += y_pred.eq(target.data.view_as(y_pred)).cpu().sum().item()\n",
        "\n",
        "    return num_correct, loss.item()"
      ]
    },
    {
      "cell_type": "code",
      "execution_count": 8,
      "metadata": {},
      "outputs": [],
      "source": [
        "def test(model, test_data_gen, criterion, device, confidence_level):\n",
        "    # Set the model to evaluation mode. This will turn off layers that would\n",
        "    # otherwise behave differently during training, such as dropout.\n",
        "    model.eval()\n",
        "\n",
        "    predictions = []\n",
        "    label_list = []\n",
        "\n",
        "    # Store the number of sequences that were classified correctly\n",
        "    num_correct = 0\n",
        "    loss = 0\n",
        "\n",
        "    # A context manager is used to disable gradient calculations during inference\n",
        "    # to reduce memory usage, as we typically don't need the gradients at this point.\n",
        "    with torch.no_grad():\n",
        "        for batch_idx, (data, target) in enumerate(test_data_gen):\n",
        "\n",
        "            data, target = data.to(device), target.to(device)\n",
        "\n",
        "            output = model(data)\n",
        "\n",
        "            output = output[:, -1, :]\n",
        "\n",
        "            # y_pred = output.argmax(dim=1)\n",
        "\n",
        "            loss += torch.sum(criterion(output, target)).item()\n",
        "\n",
        "            pred_value, y_pred = output.data.max(1, keepdim=True) # get the index of the max log-probability   \n",
        "\n",
        "            for i in range(len(target)): \n",
        "                if 4 in target[i]:\n",
        "                    target[i] = 4\n",
        "                    y_pred[i] = 4\n",
        "                \n",
        "                #if the predicted value is lower that the confidence level, set the predicted value to 0 and the target value to 0\n",
        "                if pred_value[i] < confidence_level:\n",
        "                    y_pred[i] = 4\n",
        "                    target[i] = 4\n",
        "                        \n",
        "                predictions.append(y_pred[i].item())\n",
        "                label_list.append(target[i].item())\n",
        "\n",
        "            # print((y_pred == target).sum().item())\n",
        "            num_correct += y_pred.eq(target.data.view_as(y_pred)).cpu().sum().item()\n",
        "\n",
        "    return num_correct, loss, predictions, label_list"
      ]
    },
    {
      "cell_type": "code",
      "execution_count": 9,
      "metadata": {},
      "outputs": [],
      "source": [
        "def train_and_test(model, train_data_gen, test_data_gen, criterion, optimizer, max_epochs, confidence_level, verbose=True):\n",
        "    # Automatically determine the device that PyTorch should use for computation\n",
        "    device = torch.device('cuda:0' if torch.cuda.is_available() else 'cpu')\n",
        "\n",
        "    # Move model to the device which will be used for train and test\n",
        "    model.to(device)\n",
        "\n",
        "    # Track the value of the loss function and model accuracy across epochs\n",
        "    history_train = {'acc': []}\n",
        "    history_test = {'acc': []}\n",
        "\n",
        "    for epoch in range(max_epochs):\n",
        "        # Run the training loop and calculate the accuracy.\n",
        "        # Remember that the length of a data generator is the number of batches,\n",
        "        # so we multiply it by the batch size to recover the total number of sequences.\n",
        "        num_correct, loss = train(model, train_data_gen, criterion, optimizer, device)\n",
        "        accuracy = float(num_correct) / (len(train_data_gen) * train_data_gen.batch_size) * 100\n",
        "        history_train['acc'].append(accuracy)\n",
        "\n",
        "        # Do the same for the testing loop\n",
        "        num_correct, loss, preds, true_labels = test(model, test_data_gen, criterion, device, confidence_level)\n",
        "        accuracy = float(num_correct) / (len(test_data_gen) * test_data_gen.batch_size) * 100\n",
        "        history_test['acc'].append(accuracy)\n",
        "\n",
        "        \"\"\"fix this calculation\"\"\"\n",
        "\n",
        "        if verbose or epoch + 1 == max_epochs:\n",
        "            print(f'[Epoch {epoch + 1}/{max_epochs}]'\n",
        "                  f\" acc: {history_train['acc'][-1]:2.2f}%\"\n",
        "                  f\" - test_acc: {history_test['acc'][-1]:2.2f}%\")\n",
        "\n",
        "    # Generate diagnostic plots for the loss and accuracy\n",
        "    fig, axes = plt.subplots(ncols=1, figsize=(9, 4.5))\n",
        "    for metric in ['acc']:\n",
        "        axes.plot(history_train[metric])\n",
        "        axes.plot(history_test[metric])\n",
        "        axes.set_xlabel('epoch', fontsize=12)\n",
        "        axes.set_ylabel(metric, fontsize=12)\n",
        "        axes.legend(['Train', 'Test'], loc='best')\n",
        "    plt.show()\n",
        "\n",
        "    return model, preds, true_labels"
      ]
    },
    {
      "cell_type": "code",
      "execution_count": 10,
      "metadata": {},
      "outputs": [
        {
          "name": "stdout",
          "output_type": "stream",
          "text": [
            "[Epoch 1/10] acc: 72.24% - test_acc: 82.54%\n",
            "[Epoch 2/10] acc: 83.47% - test_acc: 86.30%\n",
            "[Epoch 3/10] acc: 85.47% - test_acc: 87.95%\n",
            "[Epoch 4/10] acc: 86.51% - test_acc: 88.54%\n",
            "[Epoch 5/10] acc: 86.98% - test_acc: 88.94%\n",
            "[Epoch 6/10] acc: 87.25% - test_acc: 88.46%\n",
            "[Epoch 7/10] acc: 87.48% - test_acc: 89.16%\n",
            "[Epoch 8/10] acc: 87.77% - test_acc: 88.88%\n",
            "[Epoch 9/10] acc: 87.93% - test_acc: 89.15%\n",
            "[Epoch 10/10] acc: 88.02% - test_acc: 89.28%\n"
          ]
        },
        {
          "data": {
            "image/png": "[encoded data removed]",
            "text/plain": [
              "<Figure size 900x450 with 1 Axes>"
            ]
          },
          "metadata": {},
          "output_type": "display_data"
        }
      ],
      "source": [
        "# Setup the RNN and training settings\n",
        "\n",
        "# doing len(train_dataset) gives the number of batches\n",
        "\n",
        "#rows, columns = train_dataset.get_shape()\n",
        "input_size  = periodSize\n",
        "hidden_size = 50\n",
        "output_size = 5\n",
        "model       = SimpleRNN(input_size, hidden_size, output_size)\n",
        "criterion   = torch.nn.CrossEntropyLoss()\n",
        "optimizer   = torch.optim.RMSprop(model.parameters(), lr=0.001)\n",
        "max_epochs  = 10\n",
        "confidence = -0.5\n",
        "\n",
        "# Train the model\n",
        "#train(model, train_loader, criterion, optimizer, device)\n",
        "best_model, predictions, label_list = train_and_test(model, train_loader, val_loader, criterion, optimizer, max_epochs, confidence, verbose=True)"
      ]
    },
    {
      "cell_type": "code",
      "execution_count": 12,
      "metadata": {},
      "outputs": [
        {
          "name": "stdout",
          "output_type": "stream",
          "text": [
            "Testing Report for RNN with EEG signals\n",
            "------------------------------------------------------------------------------------------------\n",
            "              precision    recall  f1-score   support\n",
            "\n",
            "         REM       0.00      0.00      0.00       456\n",
            "     Non-REM       0.86      0.92      0.89      3714\n",
            "        Wake       0.91      0.93      0.92      7689\n",
            "    Artifact       1.00      1.00      1.00       141\n",
            "\n",
            "    accuracy                           0.89     12000\n",
            "   macro avg       0.69      0.71      0.70     12000\n",
            "weighted avg       0.86      0.89      0.88     12000\n",
            "\n"
          ]
        },
        {
          "name": "stderr",
          "output_type": "stream",
          "text": [
            "/Users/audreyostrom/Library/Python/3.8/lib/python/site-packages/sklearn/metrics/_classification.py:1344: UndefinedMetricWarning: Precision and F-score are ill-defined and being set to 0.0 in labels with no predicted samples. Use `zero_division` parameter to control this behavior.\n",
            "  _warn_prf(average, modifier, msg_start, len(result))\n",
            "/Users/audreyostrom/Library/Python/3.8/lib/python/site-packages/sklearn/metrics/_classification.py:1344: UndefinedMetricWarning: Precision and F-score are ill-defined and being set to 0.0 in labels with no predicted samples. Use `zero_division` parameter to control this behavior.\n",
            "  _warn_prf(average, modifier, msg_start, len(result))\n",
            "/Users/audreyostrom/Library/Python/3.8/lib/python/site-packages/sklearn/metrics/_classification.py:1344: UndefinedMetricWarning: Precision and F-score are ill-defined and being set to 0.0 in labels with no predicted samples. Use `zero_division` parameter to control this behavior.\n",
            "  _warn_prf(average, modifier, msg_start, len(result))\n"
          ]
        }
      ],
      "source": [
        "from sklearn.metrics import classification_report\n",
        "target_names = ['REM', 'Non-REM', 'Wake', 'Artifact']\n",
        "print('Testing Report for RNN with EEG signals')\n",
        "print('------------------------------------------------------------------------------------------------')\n",
        "print(classification_report(label_list, predictions, labels=[1,2,3,4], target_names=target_names))\n"
      ]
    }
  ],
  "metadata": {
    "colab": {
      "provenance": []
    },
    "kernelspec": {
      "display_name": "Python 3",
      "language": "python",
      "name": "python3"
    },
    "language_info": {
      "codemirror_mode": {
        "name": "ipython",
        "version": 3
      },
      "file_extension": ".py",
      "mimetype": "text/x-python",
      "name": "python",
      "nbconvert_exporter": "python",
      "pygments_lexer": "ipython3",
      "version": "3.8.2"
    },
    "orig_nbformat": 4
  },
  "nbformat": 4,
  "nbformat_minor": 0
}
