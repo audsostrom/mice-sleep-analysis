{
  "cells": [
    {
      "attachments": {},
      "cell_type": "markdown",
      "metadata": {
        "id": "hrVzIHilME_d"
      },
      "source": [
        "**Draft Model for Mice Steep Stage Analysis**"
      ]
    },
    {
      "cell_type": "code",
      "execution_count": 1,
      "metadata": {
        "id": "v448-jrIME_i"
      },
      "outputs": [],
      "source": [
        "import torch\n",
        "import torch.nn.functional as F\n",
        "from torch import optim, nn\n",
        "from torchvision import transforms, datasets, models\n",
        "\n",
        "\n",
        "import torch.utils.data as utils\n",
        "from inputMassager import *\n"
      ]
    },
    {
      "cell_type": "code",
      "execution_count": 2,
      "metadata": {
        "colab": {
          "base_uri": "https://localhost:8080/",
          "height": 393
        },
        "id": "2D54K3Q9ME_l",
        "outputId": "38cea99b-785e-418b-cbf1-f834d0e45127"
      },
      "outputs": [
        {
          "name": "stderr",
          "output_type": "stream",
          "text": [
            "/Users/audreyostrom/CSE144/mice-sleep-analysis/inputMassager.py:285: UserWarning: Casting complex values to real discards the imaginary part (Triggered internally at /Users/runner/work/pytorch/pytorch/pytorch/aten/src/ATen/native/Copy.cpp:276.)\n",
            "  fft_tensor[index, 0] = torch.fft.fft(torch.tensor(row[col]))\n"
          ]
        }
      ],
      "source": [
        "inputHandler = inputMassager()\n",
        "data_filepath = inputHandler.askForInput(\"Blah!\")\n",
        "annotated_filepath = inputHandler.askForInput(\"Blah!\")\n",
        "period_size = 200\n",
        "num_periods = 5000\n",
        "labels, eeg_samples, emg_samples, eeg_fft, emg_fft = get_labeled_data(data_filepath, annotated_filepath, period_size, num_periods)"
      ]
    },
    {
      "cell_type": "code",
      "execution_count": 3,
      "metadata": {},
      "outputs": [
        {
          "name": "stdout",
          "output_type": "stream",
          "text": [
            "torch.Size([60000, 2, 200])\n"
          ]
        }
      ],
      "source": [
        "everything = torch.cat((eeg_samples, eeg_fft), dim = 1)\n",
        "print(everything.size())"
      ]
    },
    {
      "cell_type": "code",
      "execution_count": 4,
      "metadata": {
        "id": "zyiayC-svcUb"
      },
      "outputs": [],
      "source": [
        "#ds = torch.utils.data.TensorDataset(eeg_fft, emg_fft, labels)\n",
        "ds = torch.utils.data.TensorDataset(torch.cat((eeg_samples, eeg_fft), dim = 1), torch.cat((emg_samples, emg_fft), dim = 1), labels)\n",
        "\n",
        "train_size = int(len(ds) *.80)\n",
        "val_size = len(ds) - int(len(ds) *.80)\n",
        "\n",
        "train_dataset, val_dataset = torch.utils.data.random_split(ds, [train_size, val_size])\n",
        "\n",
        "train_loader = torch.utils.data.DataLoader(train_dataset, batch_size=100, shuffle=True)\n",
        "val_loader = torch.utils.data.DataLoader(val_dataset, batch_size=100, shuffle=True)"
      ]
    },
    {
      "cell_type": "code",
      "execution_count": 5,
      "metadata": {},
      "outputs": [],
      "source": [
        "device = torch.device(\"cuda:0\" if torch.cuda.is_available() else \"cpu\")"
      ]
    },
    {
      "attachments": {},
      "cell_type": "markdown",
      "metadata": {
        "id": "ARqeTEylME_o"
      },
      "source": [
        "**Creating class for Model**"
      ]
    },
    {
      "cell_type": "code",
      "execution_count": 6,
      "metadata": {
        "id": "O944bgcTwew9"
      },
      "outputs": [],
      "source": [
        "class CNN(nn.Module):\n",
        "    def __init__(self, period_size, input_channels=1):\n",
        "        super(CNN, self).__init__()\n",
        "        self.input_channels = input_channels\n",
        "\n",
        "        self.eeg_conv1 = nn.Conv1d(in_channels=input_channels, out_channels=period_size, kernel_size=period_size//2)\n",
        "        self.eeg_conv2 = nn.Conv1d(in_channels=period_size, out_channels=period_size//4, kernel_size=8)\n",
        "        self.eeg_conv3 = nn.Conv1d(in_channels=period_size // 4, out_channels=256, kernel_size=2)\n",
        "\n",
        "        self.emg_conv1 = nn.Conv1d(in_channels=input_channels, out_channels=period_size, kernel_size=period_size//2)\n",
        "        self.emg_conv2 = nn.Conv1d(in_channels=period_size, out_channels=period_size//4, kernel_size=8)\n",
        "        self.emg_conv3 = nn.Conv1d(in_channels=period_size // 4, out_channels=256, kernel_size=2)\n",
        "\n",
        "\n",
        "\n",
        "        self.fc1 = nn.Linear(2560*2, 20)\n",
        "        self.fc2 = nn.Linear(10, 5)\n",
        "\n",
        "\n",
        "    def forward(self, c1, c2):\n",
        "        #print(x.size())\n",
        "        c1 = self.eeg_conv1(c1)\n",
        "        c1 = F.relu(c1)\n",
        "        # print(x.size())\n",
        "        c1 = F.max_pool1d(c1, kernel_size=2)\n",
        "        c1 = self.eeg_conv2(c1)\n",
        "        c1 = F.max_pool1d(c1, kernel_size=2)\n",
        "        # print(x.size())\n",
        "        c1 = self.eeg_conv3(c1)\n",
        "        c1 = F.max_pool1d(c1, kernel_size=2)\n",
        "        #print(x.size())\n",
        "\n",
        "        c2 = self.eeg_conv1(c2)\n",
        "        c2 = F.relu(c2)\n",
        "        # print(x.size())\n",
        "        c2 = F.max_pool1d(c2, kernel_size=2)\n",
        "        c2 = self.eeg_conv2(c2)\n",
        "        c2 = F.max_pool1d(c2, kernel_size=2)\n",
        "        # print(x.size())\n",
        "        c2 = self.eeg_conv3(c2)\n",
        "        c2 = F.max_pool1d(c2, kernel_size=2)\n",
        "\n",
        "\n",
        "        c1c2 = torch.cat((c1, c2), dim=1)\n",
        "\n",
        "        c1c2 = c1c2.flatten(1)\n",
        "        #print(x.size())\n",
        "        c1c2 = self.fc1(c1c2)\n",
        "        c1c2 = F.max_pool1d(c1c2, kernel_size=2)\n",
        "        # print(x.size())\n",
        "        c1c2 = self.fc2(c1c2)\n",
        "        c1c2 = F.log_softmax(c1c2, dim=1)\n",
        "#ME      \n",
        "        #c1c2 = F.relu(c1c2)\n",
        "        \n",
        "        return c1c2"
      ]
    },
    {
      "cell_type": "code",
      "execution_count": 7,
      "metadata": {
        "id": "_ctcO4-KME_o"
      },
      "outputs": [],
      "source": [
        "def train_model(epochs, model):\n",
        "    model.train() # set model to training mode\n",
        "    loss_fun = nn.CrossEntropyLoss() #define a loss function object\n",
        "\n",
        "    for epoch in range(epochs):\n",
        "\n",
        "      for batch_idx, (channel1, channel2, target) in enumerate(train_loader):\n",
        "          #print(c)\n",
        "          # print(target)\n",
        "          channel1, channel2, target = channel1.to(device), channel2.to(device), target.to(device)\n",
        "          \n",
        "          optimizer.zero_grad()\n",
        "          output = model(channel1, channel2) # guess we have to pass all channels instead of data?\n",
        "          loss = loss_fun(output,target)\n",
        "          loss.backward()\n",
        "          optimizer.step()\n",
        "          if batch_idx % 100 == 0:\n",
        "              print('Train Epoch: {} [{}/{} ({:.0f}%)]\\tLoss: {:.6f}'.format(\n",
        "                  epoch, batch_idx * len(channel1), len(train_loader.dataset),\n",
        "                  100. * batch_idx / len(train_loader), loss.item()))"
      ]
    },
    {
      "cell_type": "code",
      "execution_count": 8,
      "metadata": {
        "id": "zWd70Kxjwyir"
      },
      "outputs": [
        {
          "name": "stdout",
          "output_type": "stream",
          "text": [
            "Train Epoch: 0 [0/48000 (0%)]\tLoss: 1.624927\n",
            "Train Epoch: 0 [10000/48000 (21%)]\tLoss: 0.383925\n",
            "Train Epoch: 0 [20000/48000 (42%)]\tLoss: 0.264891\n",
            "Train Epoch: 0 [30000/48000 (62%)]\tLoss: 0.312123\n",
            "Train Epoch: 0 [40000/48000 (83%)]\tLoss: 0.346517\n",
            "Train Epoch: 1 [0/48000 (0%)]\tLoss: 0.219184\n",
            "Train Epoch: 1 [10000/48000 (21%)]\tLoss: 0.529252\n",
            "Train Epoch: 1 [20000/48000 (42%)]\tLoss: 0.268398\n",
            "Train Epoch: 1 [30000/48000 (62%)]\tLoss: 0.314128\n",
            "Train Epoch: 1 [40000/48000 (83%)]\tLoss: 0.332712\n",
            "Train Epoch: 2 [0/48000 (0%)]\tLoss: 0.164679\n",
            "Train Epoch: 2 [10000/48000 (21%)]\tLoss: 0.522119\n",
            "Train Epoch: 2 [20000/48000 (42%)]\tLoss: 0.254086\n",
            "Train Epoch: 2 [30000/48000 (62%)]\tLoss: 0.423316\n",
            "Train Epoch: 2 [40000/48000 (83%)]\tLoss: 0.414369\n",
            "Train Epoch: 3 [0/48000 (0%)]\tLoss: 0.140720\n",
            "Train Epoch: 3 [10000/48000 (21%)]\tLoss: 0.343448\n",
            "Train Epoch: 3 [20000/48000 (42%)]\tLoss: 0.330821\n",
            "Train Epoch: 3 [30000/48000 (62%)]\tLoss: 0.280829\n",
            "Train Epoch: 3 [40000/48000 (83%)]\tLoss: 0.327314\n",
            "Train Epoch: 4 [0/48000 (0%)]\tLoss: 0.274555\n",
            "Train Epoch: 4 [10000/48000 (21%)]\tLoss: 0.290561\n",
            "Train Epoch: 4 [20000/48000 (42%)]\tLoss: 0.148023\n",
            "Train Epoch: 4 [30000/48000 (62%)]\tLoss: 0.239975\n",
            "Train Epoch: 4 [40000/48000 (83%)]\tLoss: 0.533161\n",
            "Train Epoch: 5 [0/48000 (0%)]\tLoss: 0.330106\n",
            "Train Epoch: 5 [10000/48000 (21%)]\tLoss: 0.256879\n",
            "Train Epoch: 5 [20000/48000 (42%)]\tLoss: 0.414141\n",
            "Train Epoch: 5 [30000/48000 (62%)]\tLoss: 0.311308\n",
            "Train Epoch: 5 [40000/48000 (83%)]\tLoss: 0.268515\n",
            "Train Epoch: 6 [0/48000 (0%)]\tLoss: 0.216209\n",
            "Train Epoch: 6 [10000/48000 (21%)]\tLoss: 0.346914\n",
            "Train Epoch: 6 [20000/48000 (42%)]\tLoss: 0.275626\n",
            "Train Epoch: 6 [30000/48000 (62%)]\tLoss: 0.313668\n",
            "Train Epoch: 6 [40000/48000 (83%)]\tLoss: 0.521420\n",
            "Train Epoch: 7 [0/48000 (0%)]\tLoss: 0.305617\n",
            "Train Epoch: 7 [10000/48000 (21%)]\tLoss: 0.228228\n",
            "Train Epoch: 7 [20000/48000 (42%)]\tLoss: 0.234147\n",
            "Train Epoch: 7 [30000/48000 (62%)]\tLoss: 0.191637\n",
            "Train Epoch: 7 [40000/48000 (83%)]\tLoss: 0.284886\n",
            "Train Epoch: 8 [0/48000 (0%)]\tLoss: 0.370020\n",
            "Train Epoch: 8 [10000/48000 (21%)]\tLoss: 0.279268\n",
            "Train Epoch: 8 [20000/48000 (42%)]\tLoss: 0.295423\n",
            "Train Epoch: 8 [30000/48000 (62%)]\tLoss: 0.182993\n",
            "Train Epoch: 8 [40000/48000 (83%)]\tLoss: 0.165677\n",
            "Train Epoch: 9 [0/48000 (0%)]\tLoss: 0.284587\n",
            "Train Epoch: 9 [10000/48000 (21%)]\tLoss: 0.250945\n",
            "Train Epoch: 9 [20000/48000 (42%)]\tLoss: 0.306547\n",
            "Train Epoch: 9 [30000/48000 (62%)]\tLoss: 0.175729\n",
            "Train Epoch: 9 [40000/48000 (83%)]\tLoss: 0.269841\n"
          ]
        }
      ],
      "source": [
        "model = CNN(period_size, 2)\n",
        "model.to(device)\n",
        "  \n",
        "optimizer = torch.optim.SGD(model.parameters(), lr=.01, momentum=0.9)\n",
        "\n",
        "train_model(10, model)"
      ]
    },
    {
      "cell_type": "code",
      "execution_count": 21,
      "metadata": {
        "id": "xX-YQFBoxmAa"
      },
      "outputs": [],
      "source": [
        "def evaluate_model(model, dataloader, is_test=False, confidence_level = -0.5):\n",
        "  # Set model to evaluation mode\n",
        "  model.eval()\n",
        "\n",
        "  #dictionary to store the accuracy of predictions by sleep stage\n",
        "  acurracy_stages = {0:[], 1:[], 2:[], 3:[], 4:[]}\n",
        "  stage_names = [\"not sure(0): \", \"rem accuracy(1): \", \"non-rem accuracy(2): \", \"wake accuracy(3): \", \"artifact accuracy(4): \"]\n",
        "  predictions = []\n",
        "  label_list = []\n",
        "  \n",
        "\n",
        "  with torch.no_grad():\n",
        "    correct = 0\n",
        "    loss = 0\n",
        "\n",
        "    criterion = torch.nn.CrossEntropyLoss(reduction='none')\n",
        "\n",
        "    for channel1, channel2, target in dataloader:\n",
        "        channel1, channel2, target = channel1.to(device), channel2.to(device), target.to(device)\n",
        "        outputs = model(channel1, channel2)\n",
        "\n",
        "        loss += torch.sum(criterion(outputs, target)).item()\n",
        "\n",
        "        pred_value, pred = outputs.data.max(1, keepdim=True) # get the index of the max log-probability                                                         \n",
        "          \n",
        "        for i in range(len(target)):      \n",
        "          \n",
        "          #if the predicted value is lower that the confidence level, set the predicted value to 0 and the target value to 0\n",
        "           if pred_value[i] < confidence_level:\n",
        "            pred[i] = 4\n",
        "            target[i] = 4\n",
        "\n",
        "          #append boolean indicating whether or not each prediction matched the target to the apporpriate sleep stage list\n",
        "           acurracy_stages[target[i].item()].append(pred[i].eq(target[i]).item())\n",
        "           predictions.append(pred[i].item())\n",
        "           label_list.append(target[i].item())\n",
        "           \n",
        "        correct += pred.eq(target.data.view_as(pred)).cpu().sum().item()               \n",
        "          \n",
        "\n",
        "#calculate total accuracy and loss\n",
        "    loss /= len(dataloader.dataset)\n",
        "    accuracy = 100. * correct / len(dataloader.dataset)\n",
        "    print('\\n{} set: Average loss: {:.4f}, Accuracy: {}/{} ({:.0f}%)\\n'.format(\n",
        "        \"Test\" if is_test else \"Validation\",\n",
        "        loss, correct, len(dataloader.dataset),\n",
        "        accuracy))\n",
        "\n",
        "  # Set model back to training mode\n",
        "  model.train()\n",
        "  return predictions, label_list"
      ]
    },
    {
      "cell_type": "code",
      "execution_count": 25,
      "metadata": {
        "id": "WXAO7Fpkxmqa"
      },
      "outputs": [
        {
          "name": "stdout",
          "output_type": "stream",
          "text": [
            "\n",
            "Test set: Average loss: 0.3385, Accuracy: 10904/12000 (91%)\n",
            "\n",
            "Testing Report for Dual CNN with Fourier Transform for Accuracy, Precision, Recall, and F1-Score\n",
            "------------------------------------------------------------------------------------------------\n",
            "              precision    recall  f1-score   support\n",
            "\n",
            "         REM       0.00      0.00      0.00       467\n",
            "     Non-REM       0.94      0.91      0.92      3654\n",
            "        Wake       0.90      0.98      0.94      7705\n",
            "    Artifact       0.94      0.20      0.32       174\n",
            "\n",
            "    accuracy                           0.91     12000\n",
            "   macro avg       0.69      0.52      0.55     12000\n",
            "weighted avg       0.87      0.91      0.89     12000\n",
            "\n"
          ]
        },
        {
          "name": "stderr",
          "output_type": "stream",
          "text": [
            "/Users/audreyostrom/Library/Python/3.8/lib/python/site-packages/sklearn/metrics/_classification.py:1344: UndefinedMetricWarning: Precision and F-score are ill-defined and being set to 0.0 in labels with no predicted samples. Use `zero_division` parameter to control this behavior.\n",
            "  _warn_prf(average, modifier, msg_start, len(result))\n",
            "/Users/audreyostrom/Library/Python/3.8/lib/python/site-packages/sklearn/metrics/_classification.py:1344: UndefinedMetricWarning: Precision and F-score are ill-defined and being set to 0.0 in labels with no predicted samples. Use `zero_division` parameter to control this behavior.\n",
            "  _warn_prf(average, modifier, msg_start, len(result))\n",
            "/Users/audreyostrom/Library/Python/3.8/lib/python/site-packages/sklearn/metrics/_classification.py:1344: UndefinedMetricWarning: Precision and F-score are ill-defined and being set to 0.0 in labels with no predicted samples. Use `zero_division` parameter to control this behavior.\n",
            "  _warn_prf(average, modifier, msg_start, len(result))\n"
          ]
        }
      ],
      "source": [
        "#if you make the confidence level too low, you'll get an error about not being able to divede by 0,\n",
        "#that just means that none of the data is being classified to not sure, keep it below -.75 to avoid this\n",
        "from sklearn.metrics import classification_report\n",
        "predictions, label_list = evaluate_model(model, val_loader, is_test=True, confidence_level=-0.75)\n",
        "\n",
        "target_names = ['REM', 'Non-REM', 'Wake', 'Artifact']\n",
        "print('Testing Report for Dual CNN with Fourier Transform for Accuracy, Precision, Recall, and F1-Score')\n",
        "print('------------------------------------------------------------------------------------------------')\n",
        "print(classification_report(label_list, predictions, labels=[1,2,3,4], target_names=target_names))"
      ]
    },
    {
      "cell_type": "code",
      "execution_count": 11,
      "metadata": {},
      "outputs": [
        {
          "name": "stdout",
          "output_type": "stream",
          "text": [
            "12000\n"
          ]
        }
      ],
      "source": [
        "print(len(predictions))"
      ]
    },
    {
      "attachments": {},
      "cell_type": "markdown",
      "metadata": {},
      "source": [
        "with more training data, the model almost always predicts wake becuase it's so overepresented, when i was running just 10000 periods, it was in the mid to low 90s for non-rem and rem accuracy but with all the data, it's 99% accurate for wake and in the 30s for non rem"
      ]
    }
  ],
  "metadata": {
    "colab": {
      "provenance": []
    },
    "kernelspec": {
      "display_name": "Python 3",
      "language": "python",
      "name": "python3"
    },
    "language_info": {
      "codemirror_mode": {
        "name": "ipython",
        "version": 3
      },
      "file_extension": ".py",
      "mimetype": "text/x-python",
      "name": "python",
      "nbconvert_exporter": "python",
      "pygments_lexer": "ipython3",
      "version": "3.8.2"
    },
    "orig_nbformat": 4
  },
  "nbformat": 4,
  "nbformat_minor": 0
}
