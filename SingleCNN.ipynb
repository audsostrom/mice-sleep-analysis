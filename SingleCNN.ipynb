{
  "cells": [
    {
      "attachments": {},
      "cell_type": "markdown",
      "metadata": {
        "id": "hrVzIHilME_d"
      },
      "source": [
        "**Draft Model for Mice Steep Stage Analysis**"
      ]
    },
    {
      "cell_type": "code",
      "execution_count": 39,
      "metadata": {
        "id": "v448-jrIME_i"
      },
      "outputs": [],
      "source": [
        "import torch\n",
        "import torch.nn.functional as F\n",
        "from torch import optim, nn\n",
        "from torchvision import transforms, datasets, models\n",
        "\n",
        "\n",
        "import torch.utils.data as utils\n",
        "from sklearn.metrics import accuracy_score\n",
        "from inputMassager import *\n"
      ]
    },
    {
      "cell_type": "code",
      "execution_count": 40,
      "metadata": {
        "colab": {
          "base_uri": "https://localhost:8080/",
          "height": 393
        },
        "id": "2D54K3Q9ME_l",
        "outputId": "38cea99b-785e-418b-cbf1-f834d0e45127"
      },
      "outputs": [],
      "source": [
        "inputHandler = inputMassager()\n",
        "data_filepath = inputHandler.askForInput(\"Blah!\")\n",
        "annotated_filepath = inputHandler.askForInput(\"Blah!\")\n",
        "period_size = 200\n",
        "num_periods =  60000\n",
        "labels, eeg_samples, emg_samples, eeg_fft, emg_fft = get_labeled_data(data_filepath, annotated_filepath, period_size, num_periods)"
      ]
    },
    {
      "cell_type": "code",
      "execution_count": 41,
      "metadata": {},
      "outputs": [
        {
          "name": "stdout",
          "output_type": "stream",
          "text": [
            "torch.Size([60000, 2, 200])\n"
          ]
        }
      ],
      "source": [
        "everything = torch.cat((eeg_samples, eeg_fft), dim = 1)\n",
        "print(everything.size())"
      ]
    },
    {
      "cell_type": "code",
      "execution_count": 42,
      "metadata": {
        "id": "zyiayC-svcUb"
      },
      "outputs": [
        {
          "name": "stderr",
          "output_type": "stream",
          "text": [
            "/var/folders/dg/6gzrkj09311g91kn90n1qdcc0000gn/T/ipykernel_56200/4064353261.py:2: UserWarning: To copy construct from a tensor, it is recommended to use sourceTensor.clone().detach() or sourceTensor.clone().detach().requires_grad_(True), rather than torch.tensor(sourceTensor).\n",
            "  ds = torch.utils.data.TensorDataset(eeg_samples, torch.tensor(labels))\n"
          ]
        }
      ],
      "source": [
        "#ds = torch.utils.data.TensorDataset(eeg_fft, emg_fft, labels)\n",
        "ds = torch.utils.data.TensorDataset(eeg_samples, torch.tensor(labels))\n",
        "\n",
        "train_size = int(len(ds) *.80)\n",
        "val_size = len(ds) - int(len(ds) *.80)\n",
        "\n",
        "train_dataset, val_dataset = torch.utils.data.random_split(ds, [train_size, val_size])\n",
        "\n",
        "train_loader = torch.utils.data.DataLoader(train_dataset, batch_size=100, shuffle=True)\n",
        "val_loader = torch.utils.data.DataLoader(val_dataset, batch_size=100, shuffle=True)"
      ]
    },
    {
      "cell_type": "code",
      "execution_count": 43,
      "metadata": {},
      "outputs": [],
      "source": [
        "device = torch.device(\"cuda:0\" if torch.cuda.is_available() else \"cpu\")"
      ]
    },
    {
      "attachments": {},
      "cell_type": "markdown",
      "metadata": {
        "id": "ARqeTEylME_o"
      },
      "source": [
        "**Creating class for Model**"
      ]
    },
    {
      "cell_type": "code",
      "execution_count": 44,
      "metadata": {
        "id": "O944bgcTwew9"
      },
      "outputs": [],
      "source": [
        "class CNN(nn.Module):\n",
        "    def __init__(self, period_size, input_channels=1):\n",
        "        super(CNN, self).__init__()\n",
        "        self.input_channels = input_channels\n",
        "        self.conv1 = nn.Conv1d(in_channels=1, out_channels=period_size, kernel_size=period_size//2)\n",
        "        self.conv2 = nn.Conv1d(in_channels=period_size, out_channels=period_size//4, kernel_size=8)\n",
        "        self.conv3 = nn.Conv1d(in_channels=period_size//4, out_channels=256, kernel_size=2)\n",
        "\n",
        "\n",
        "        # out_channels and kernal size are random\n",
        "        self.fc1 = nn.Linear(2560, 20) # 10 is random\n",
        "        self.fc2 = nn.Linear(10, 5)\n",
        "\n",
        "\n",
        "    def forward(self, x, verbose=False):\n",
        "        #print(x.size())\n",
        "        x = self.conv1(x)\n",
        "        x = F.relu(x)\n",
        "        # print(x.size())\n",
        "        x = F.max_pool1d(x, kernel_size=2)\n",
        "        x = self.conv2(x)\n",
        "        x = F.max_pool1d(x, kernel_size=2)\n",
        "        # print(x.size())\n",
        "        x = self.conv3(x)\n",
        "        x = F.max_pool1d(x, kernel_size=2)\n",
        "        #print(x.size())\n",
        "        x = x.flatten(1)\n",
        "        #print(x.size())\n",
        "        x = self.fc1(x)\n",
        "        x = F.max_pool1d(x, kernel_size=2)\n",
        "        # print(x.size())\n",
        "        x = self.fc2(x)\n",
        "        x = F.log_softmax(x, dim=1)\n",
        "        return x"
      ]
    },
    {
      "cell_type": "code",
      "execution_count": 45,
      "metadata": {
        "id": "_ctcO4-KME_o"
      },
      "outputs": [],
      "source": [
        "def train_model(model, dataloader):\n",
        "    print(\"device:\", device)\n",
        "    model.to(device)\n",
        "    model.train() # set model to training mode\n",
        "\n",
        "  \n",
        "    # class_weights = torch.tensor([1/50, 1/5886, 1/13258, 1/285, 0], device=device)\n",
        "    class_weights = torch.tensor([0.9, 2.6, 0.7, 0.5, 0.9], device=device)\n",
        "\n",
        "    loss_fun = nn.CrossEntropyLoss(weight=class_weights) #define a loss function object\n",
        "    for batch_idx, (channel1, target) in enumerate(dataloader):\n",
        "        channel1, target = channel1.to(device), target.to(device)\n",
        "        optimizer.zero_grad()\n",
        "        output = model(channel1) # guess we have to pass all channels instead of data?\n",
        "        pred_value, pred = output.data.max(1, keepdim=True) # get the index of the max log-probability   \n",
        "        model.to(device)\n",
        "\n",
        "        loss = loss_fun(output,target)\n",
        "        loss.backward()\n",
        "        optimizer.step()\n",
        "    return accuracy_score(target.tolist(), pred), loss.item()\n",
        "    "
      ]
    },
    {
      "cell_type": "code",
      "execution_count": 46,
      "metadata": {
        "id": "zWd70Kxjwyir"
      },
      "outputs": [],
      "source": [
        "model = CNN(period_size)\n",
        "model.to(device)\n",
        "  \n",
        "optimizer = torch.optim.SGD(model.parameters(), lr=.01, momentum=0.9)"
      ]
    },
    {
      "cell_type": "code",
      "execution_count": 47,
      "metadata": {
        "id": "xX-YQFBoxmAa"
      },
      "outputs": [],
      "source": [
        "def evaluate_model(model, dataloader, is_test=False, confidence_level = -0.5):\n",
        "  # Set model to evaluation mode\n",
        "  model.eval()\n",
        "\n",
        "  #dictionary to store the accuracy of predictions by sleep stage\n",
        "  acurracy_stages = {0:[], 1:[], 2:[], 3:[], 4:[]}\n",
        "  stage_names = [\"not sure(0): \", \"rem accuracy(1): \", \"non-rem accuracy(2): \", \"wake accuracy(3): \", \"artifact accuracy(4): \"]\n",
        "  predictions = []\n",
        "  label_list = []\n",
        "  \n",
        "\n",
        "  with torch.no_grad():\n",
        "    correct = 0\n",
        "    loss = 0\n",
        "\n",
        "    criterion = torch.nn.CrossEntropyLoss(reduction='none')\n",
        "\n",
        "    for channel1, target in dataloader:\n",
        "        channel1, target = channel1.to(device), target.to(device)\n",
        "        outputs = model(channel1)\n",
        "\n",
        "        loss += torch.sum(criterion(outputs, target)).item()\n",
        "\n",
        "        pred_value, pred = outputs.data.max(1, keepdim=True) # get the index of the max log-probability                                           \n",
        "          \n",
        "        for i in range(len(target)): \n",
        "           if 4 in target[i]:\n",
        "             target[i] = 4\n",
        "             pred[i] = 4\n",
        "          \n",
        "          #if the predicted value is lower that the confidence level, set the predicted value to 0 and the target value to 0\n",
        "           if pred_value[i] < confidence_level:\n",
        "            pred[i] = 4\n",
        "            target[i] = 4\n",
        "\n",
        "          #append boolean indicating whether or not each prediction matched the target to the apporpriate sleep stage list\n",
        "           acurracy_stages[target[i].item()].append(pred[i].eq(target[i]).item())\n",
        "           predictions.append(pred[i].item())\n",
        "           label_list.append(target[i].item())\n",
        "\n",
        "           \n",
        "        correct += pred.eq(target.data.view_as(pred)).cpu().sum().item()\n",
        "\n",
        "          \n",
        "\n",
        "#calculate total accuracy and loss\n",
        "    loss /= len(dataloader.dataset)\n",
        "    accuracy = 100. * correct / len(dataloader.dataset)\n",
        "    print('\\n{} set: Average loss: {:.4f}, Accuracy: {}/{} ({:.0f}%)\\n'.format(\n",
        "        \"Test\" if is_test else \"Validation\",\n",
        "        loss, correct, len(dataloader.dataset),\n",
        "        accuracy))\n",
        "    \n",
        "\n",
        "  # Set model back to training mode\n",
        "  model.train()\n",
        "  return predictions, label_list, loss"
      ]
    },
    {
      "cell_type": "code",
      "execution_count": 48,
      "metadata": {},
      "outputs": [],
      "source": [
        "import matplotlib.pyplot as plt\n",
        "def train_and_test(model, train_data_gen, test_data_gen, max_epochs, confidence_level=-0.75, is_test=False, verbose=True):\n",
        "    # Automatically determine the device that PyTorch should use for computation\n",
        "    device = torch.device('cuda:0' if torch.cuda.is_available() else 'cpu')\n",
        "\n",
        "    # Move model to the device which will be used for train and test\n",
        "    model.to(device)\n",
        "\n",
        "    # Track the value of the loss function and model accuracy across epochs\n",
        "    history_train = {'loss': [], 'acc': []}\n",
        "    history_test = {'loss': [], 'acc': []}\n",
        "\n",
        "    for epoch in range(max_epochs):\n",
        "        # Run the training loop and calculate the accuracy.\n",
        "        # Remember that the length of a data generator is the number of batches,\n",
        "        # so we multiply it by the batch size to recover the total number of sequences.\n",
        "        accuracy_train, loss_train = train_model(model, train_data_gen)\n",
        "        history_train['acc'].append(accuracy_train)\n",
        "        history_train['loss'].append(loss_train)\n",
        "\n",
        "\n",
        "        # Do the same for the testing loop\n",
        "        predictions, label_list, test_loss = evaluate_model(model, test_data_gen, is_test=False, confidence_level=confidence_level)\n",
        "        history_test['acc'].append(accuracy_score(label_list, predictions))\n",
        "        history_test['loss'].append(test_loss)\n",
        "\n",
        "\n",
        "        \"\"\"fix this calculation\"\"\"\n",
        "\n",
        "        if verbose or epoch + 1 == max_epochs:\n",
        "            print(f'[Epoch {epoch + 1}/{max_epochs}]'\n",
        "                  f\" acc: {history_train['acc'][-1]:2.2f}%\"\n",
        "                  f\" - test_acc: {history_test['acc'][-1]:2.2f}%\")\n",
        "\n",
        "    # Generate diagnostic plots for the loss and accuracy\n",
        "    fig, axes = plt.subplots(ncols=2, figsize=(9, 4.5))\n",
        "    for ax, metric in zip(axes, ['loss', 'acc']):\n",
        "        ax.plot(history_train[metric])\n",
        "        ax.plot(history_test[metric])\n",
        "        ax.set_xlabel('epoch', fontsize=12)\n",
        "        ax.set_ylabel(metric, fontsize=12)\n",
        "        ax.legend(['Train', 'Test'], loc='best')\n",
        "    plt.show()\n",
        "\n",
        "    return predictions, label_list"
      ]
    },
    {
      "cell_type": "code",
      "execution_count": 49,
      "metadata": {
        "id": "WXAO7Fpkxmqa"
      },
      "outputs": [
        {
          "name": "stdout",
          "output_type": "stream",
          "text": [
            "device: cpu\n",
            "\n",
            "Validation set: Average loss: 0.4917, Accuracy: 10836/12000 (90%)\n",
            "\n",
            "[Epoch 1/10] acc: 0.86% - test_acc: 0.90%\n",
            "device: cpu\n",
            "\n",
            "Validation set: Average loss: 0.4945, Accuracy: 10911/12000 (91%)\n",
            "\n",
            "[Epoch 2/10] acc: 0.94% - test_acc: 0.91%\n",
            "device: cpu\n",
            "\n",
            "Validation set: Average loss: 0.4924, Accuracy: 10812/12000 (90%)\n",
            "\n",
            "[Epoch 3/10] acc: 0.94% - test_acc: 0.90%\n",
            "device: cpu\n",
            "\n",
            "Validation set: Average loss: 0.5036, Accuracy: 10876/12000 (91%)\n",
            "\n",
            "[Epoch 4/10] acc: 0.88% - test_acc: 0.91%\n",
            "device: cpu\n",
            "\n",
            "Validation set: Average loss: 0.4184, Accuracy: 10939/12000 (91%)\n",
            "\n",
            "[Epoch 5/10] acc: 0.90% - test_acc: 0.91%\n",
            "device: cpu\n",
            "\n",
            "Validation set: Average loss: 0.5060, Accuracy: 11005/12000 (92%)\n",
            "\n",
            "[Epoch 6/10] acc: 0.85% - test_acc: 0.92%\n",
            "device: cpu\n",
            "\n",
            "Validation set: Average loss: 0.4569, Accuracy: 11008/12000 (92%)\n",
            "\n",
            "[Epoch 7/10] acc: 0.89% - test_acc: 0.92%\n",
            "device: cpu\n",
            "\n",
            "Validation set: Average loss: 0.4848, Accuracy: 10764/12000 (90%)\n",
            "\n",
            "[Epoch 8/10] acc: 0.88% - test_acc: 0.90%\n",
            "device: cpu\n",
            "\n",
            "Validation set: Average loss: 0.4224, Accuracy: 10983/12000 (92%)\n",
            "\n",
            "[Epoch 9/10] acc: 0.87% - test_acc: 0.92%\n",
            "device: cpu\n",
            "\n",
            "Validation set: Average loss: 0.4203, Accuracy: 11038/12000 (92%)\n",
            "\n",
            "[Epoch 10/10] acc: 0.88% - test_acc: 0.92%\n"
          ]
        },
        {
          "data": {
            "image/png": "[encoded data removed]",
            "text/plain": [
              "<Figure size 900x450 with 2 Axes>"
            ]
          },
          "metadata": {},
          "output_type": "display_data"
        }
      ],
      "source": [
        "#if you make the confidence level too low, you'll get an error about not being able to divede by 0,\n",
        "#that just means that none of the data is being classified to not sure, keep it below -.75 to avoid this\n",
        "from sklearn.metrics import classification_report\n",
        "predictions, label_list = train_and_test(model, train_loader, val_loader, 10, confidence_level=-0.75, is_test=False, verbose=True)"
      ]
    },
    {
      "cell_type": "code",
      "execution_count": 51,
      "metadata": {},
      "outputs": [
        {
          "name": "stdout",
          "output_type": "stream",
          "text": [
            "Testing Report for Single CNN for Accuracy, Precision, Recall, and F1-Score\n",
            "------------------------------------------------------------------------------------------------\n",
            "              precision    recall  f1-score   support\n",
            "\n",
            "         REM       0.00      0.00      0.00       464\n",
            "     Non-REM       0.94      0.92      0.93      3591\n",
            "        Wake       0.91      0.97      0.94      7585\n",
            "    Artifact       1.00      1.00      1.00       360\n",
            "\n",
            "    accuracy                           0.92     12000\n",
            "   macro avg       0.71      0.72      0.72     12000\n",
            "weighted avg       0.88      0.92      0.90     12000\n",
            "\n",
            "Classified Periods:\n",
            "Class 3, Wake: 8116\n",
            "Class 2, Non-REM: 3524\n",
            "Class 4, Artifact: 360\n"
          ]
        },
        {
          "name": "stderr",
          "output_type": "stream",
          "text": [
            "/Users/audreyostrom/Library/Python/3.8/lib/python/site-packages/sklearn/metrics/_classification.py:1344: UndefinedMetricWarning: Precision and F-score are ill-defined and being set to 0.0 in labels with no predicted samples. Use `zero_division` parameter to control this behavior.\n",
            "  _warn_prf(average, modifier, msg_start, len(result))\n",
            "/Users/audreyostrom/Library/Python/3.8/lib/python/site-packages/sklearn/metrics/_classification.py:1344: UndefinedMetricWarning: Precision and F-score are ill-defined and being set to 0.0 in labels with no predicted samples. Use `zero_division` parameter to control this behavior.\n",
            "  _warn_prf(average, modifier, msg_start, len(result))\n",
            "/Users/audreyostrom/Library/Python/3.8/lib/python/site-packages/sklearn/metrics/_classification.py:1344: UndefinedMetricWarning: Precision and F-score are ill-defined and being set to 0.0 in labels with no predicted samples. Use `zero_division` parameter to control this behavior.\n",
            "  _warn_prf(average, modifier, msg_start, len(result))\n"
          ]
        }
      ],
      "source": [
        "target_names = ['REM', 'Non-REM', 'Wake', 'Artifact']\n",
        "print('Testing Report for Single CNN for Accuracy, Precision, Recall, and F1-Score')\n",
        "print('------------------------------------------------------------------------------------------------')\n",
        "print(classification_report(label_list, predictions, labels=[1,2,3,4], target_names=target_names))\n",
        "\n",
        "\n",
        "\n",
        "# Calculate class-wise counts\n",
        "predictions_df = pd.Series(predictions, name='Predicted')\n",
        "counts = predictions_df.value_counts()\n",
        "\n",
        "print('Classified Periods:')\n",
        "for class_name, count in counts.items():\n",
        "    print(f\"Class {class_name}, {target_names[class_name-1]}: {count}\")"
      ]
    },
    {
      "attachments": {},
      "cell_type": "markdown",
      "metadata": {},
      "source": [
        "with more training data, the model almost always predicts wake becuase it's so overepresented, when i was running just 10000 periods, it was in the mid to low 90s for non-rem and rem accuracy but with all the data, it's 99% accurate for wake and in the 30s for non rem"
      ]
    }
  ],
  "metadata": {
    "colab": {
      "provenance": []
    },
    "kernelspec": {
      "display_name": "Python 3",
      "language": "python",
      "name": "python3"
    },
    "language_info": {
      "codemirror_mode": {
        "name": "ipython",
        "version": 3
      },
      "file_extension": ".py",
      "mimetype": "text/x-python",
      "name": "python",
      "nbconvert_exporter": "python",
      "pygments_lexer": "ipython3",
      "version": "3.8.2"
    },
    "orig_nbformat": 4
  },
  "nbformat": 4,
  "nbformat_minor": 0
}
